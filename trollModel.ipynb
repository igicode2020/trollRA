{
 "cells": [
  {
   "cell_type": "code",
   "execution_count": 2,
   "id": "initial_id",
   "metadata": {
    "collapsed": true,
    "ExecuteTime": {
     "end_time": "2024-07-05T13:14:16.922395Z",
     "start_time": "2024-07-05T13:13:54.887794Z"
    }
   },
   "outputs": [
    {
     "name": "stderr",
     "output_type": "stream",
     "text": [
      "2024-07-05 09:14:05.889068: I tensorflow/core/platform/cpu_feature_guard.cc:210] This TensorFlow binary is optimized to use available CPU instructions in performance-critical operations.\n",
      "To enable the following instructions: AVX2 FMA, in other operations, rebuild TensorFlow with the appropriate compiler flags.\n"
     ]
    }
   ],
   "source": [
    "# Import libraries\n",
    "\n",
    "import pandas as pd\n",
    "import tensorflow as tf\n",
    "from sklearn.preprocessing import LabelEncoder, OneHotEncoder\n",
    "from sklearn.compose import ColumnTransformer\n",
    "from sklearn.model_selection import train_test_split\n",
    "from sklearn.preprocessing import StandardScaler\n",
    "from tensorflow.keras import Input\n",
    "from tensorflow.keras.models import Sequential\n",
    "from tensorflow.keras.layers import Dense, Dropout\n",
    "from tensorflow.keras.models import Model"
   ]
  },
  {
   "cell_type": "markdown",
   "source": [
    "Add and adjust 'Justin.csv' including pre-proccessing data like time"
   ],
   "metadata": {
    "collapsed": false
   },
   "id": "78c83b3fb6646233"
  },
  {
   "cell_type": "code",
   "outputs": [
    {
     "name": "stdout",
     "output_type": "stream",
     "text": [
      "    Location            DateTime\n",
      "0     Stever 1900-06-30 23:09:00\n",
      "1     Stever 1900-07-01 22:34:00\n",
      "2     Stever 1900-07-01 16:00:00\n",
      "3     Stever 1900-07-01 22:46:00\n",
      "4  Forbes St 1900-07-02 18:51:00\n"
     ]
    }
   ],
   "source": [
    "# Load the dataset without explicit date parsing\n",
    "file_path = 'justin.csv'\n",
    "df = pd.read_csv(file_path)\n",
    "\n",
    "# Preprocess Date & Time\n",
    "df['DateTime'] = pd.to_datetime(df['Date'] + ' ' + df['Time'], format='%m/%d %H:%M')\n",
    "df.drop(['Date', 'Time'], axis=1, inplace=True)\n",
    "\n",
    "# Verify Data\n",
    "print(df.head())\n"
   ],
   "metadata": {
    "collapsed": false,
    "ExecuteTime": {
     "end_time": "2024-07-05T13:14:29.507050Z",
     "start_time": "2024-07-05T13:14:29.064535Z"
    }
   },
   "id": "83fcbf1c4d9fd4c2",
   "execution_count": 3
  },
  {
   "cell_type": "markdown",
   "source": [
    "Setup Time and Date in pandas correctly"
   ],
   "metadata": {
    "collapsed": false
   },
   "id": "b36d5431efc0cef3"
  },
  {
   "cell_type": "code",
   "outputs": [
    {
     "name": "stdout",
     "output_type": "stream",
     "text": [
      "    Location            DateTime  Hour  DayOfWeek  Location_Code\n",
      "0     Stever 1900-06-30 23:09:00    23          5              2\n",
      "1     Stever 1900-07-01 22:34:00    22          6              2\n",
      "2     Stever 1900-07-01 16:00:00    16          6              2\n",
      "3     Stever 1900-07-01 22:46:00    22          6              2\n",
      "4  Forbes St 1900-07-02 18:51:00    18          0              1\n"
     ]
    }
   ],
   "source": [
    "# Extract features from datetime\n",
    "df['Hour'] = df['DateTime'].dt.hour\n",
    "df['DayOfWeek'] = df['DateTime'].dt.dayofweek\n",
    "\n",
    "# Encoding via OneHotEncoder\n",
    "label_encoder = LabelEncoder()\n",
    "df['Location_Code'] = label_encoder.fit_transform(df['Location'])\n",
    "\n",
    "# Prepare features (X) and target (y)\n",
    "X = df[['Hour', 'DayOfWeek']].values\n",
    "y = df['Location_Code'].values\n",
    "\n",
    "print(df.head())"
   ],
   "metadata": {
    "collapsed": false,
    "ExecuteTime": {
     "end_time": "2024-07-05T14:04:55.088853Z",
     "start_time": "2024-07-05T14:04:54.999492Z"
    }
   },
   "id": "879c481c5c3fd23d",
   "execution_count": 34
  },
  {
   "cell_type": "markdown",
   "source": [
    "Setup OneHotEncoder"
   ],
   "metadata": {
    "collapsed": false
   },
   "id": "9b00a41e84be6af2"
  },
  {
   "cell_type": "code",
   "outputs": [],
   "source": [
    "# One-hot encode categorical features (DayOfWeek)\n",
    "ct = ColumnTransformer(\n",
    "    [('one_hot_encoder', OneHotEncoder(categories='auto'), [1])],\n",
    "    remainder='passthrough'\n",
    ")\n",
    "X = ct.fit_transform(X)"
   ],
   "metadata": {
    "collapsed": false,
    "ExecuteTime": {
     "end_time": "2024-07-05T14:05:03.436927Z",
     "start_time": "2024-07-05T14:05:03.412924Z"
    }
   },
   "id": "89f74e341003b3fa",
   "execution_count": 35
  },
  {
   "cell_type": "markdown",
   "source": [
    "Splitting dataset into training and testing"
   ],
   "metadata": {
    "collapsed": false
   },
   "id": "563dba3df6c10910"
  },
  {
   "cell_type": "code",
   "outputs": [],
   "source": [
    "X_train, X_test, y_train, y_test = train_test_split(X, y, test_size=0.2, random_state=42)"
   ],
   "metadata": {
    "collapsed": false,
    "ExecuteTime": {
     "end_time": "2024-07-05T13:14:34.931126Z",
     "start_time": "2024-07-05T13:14:34.712243Z"
    }
   },
   "id": "f61e1b7e5800e434",
   "execution_count": 6
  },
  {
   "cell_type": "markdown",
   "source": [
    "Standarization via scaling"
   ],
   "metadata": {
    "collapsed": false
   },
   "id": "b58b8708a560b16f"
  },
  {
   "cell_type": "code",
   "outputs": [],
   "source": [
    "scaler = StandardScaler()\n",
    "X_train = scaler.fit_transform(X_train)\n",
    "X_test = scaler.transform(X_test)"
   ],
   "metadata": {
    "collapsed": false,
    "ExecuteTime": {
     "end_time": "2024-07-05T13:14:36.850343Z",
     "start_time": "2024-07-05T13:14:36.639716Z"
    }
   },
   "id": "a812a869f196bba8",
   "execution_count": 7
  },
  {
   "cell_type": "markdown",
   "source": [
    "Defining model"
   ],
   "metadata": {
    "collapsed": false
   },
   "id": "f69b03e80c9d29e5"
  },
  {
   "cell_type": "code",
   "outputs": [],
   "source": [
    "# Set input shape in friendly way \n",
    "# to be adjustable depending on # of vars\n",
    "input_shape = (6,) \n",
    "\n",
    "# Input layer\n",
    "inputs = Input(shape=input_shape)\n",
    "\n",
    "# Hidden layers\n",
    "x = Dense(32, activation='relu')(inputs)\n",
    "x = Dense(16, activation='relu')(x)\n",
    "\n",
    "# Output layer\n",
    "outputs = Dense(8, activation='relu')(x)# Example output layer \n",
    "outputs = Dense(3, activation='relu')(outputs)# for binary classification\n",
    "\n",
    "# Create the model\n",
    "model = Model(inputs=inputs, outputs=outputs)\n",
    "\n",
    "# Compile the model\n",
    "model.compile(optimizer='adam', loss=tf.keras.losses.SparseCategoricalCrossentropy(from_logits=True), metrics=['accuracy'])\n"
   ],
   "metadata": {
    "collapsed": false,
    "ExecuteTime": {
     "end_time": "2024-07-05T16:20:33.974388Z",
     "start_time": "2024-07-05T16:20:33.834431Z"
    }
   },
   "id": "492b9bfce4a06136",
   "execution_count": 59
  },
  {
   "cell_type": "markdown",
   "source": [
    "Model Summary - find how many params used"
   ],
   "metadata": {
    "collapsed": false
   },
   "id": "8a8124804282cc85"
  },
  {
   "cell_type": "code",
   "outputs": [
    {
     "data": {
      "text/plain": "\u001B[1mModel: \"functional_5\"\u001B[0m\n",
      "text/html": "<pre style=\"white-space:pre;overflow-x:auto;line-height:normal;font-family:Menlo,'DejaVu Sans Mono',consolas,'Courier New',monospace\"><span style=\"font-weight: bold\">Model: \"functional_5\"</span>\n</pre>\n"
     },
     "metadata": {},
     "output_type": "display_data"
    },
    {
     "data": {
      "text/plain": "┏━━━━━━━━━━━━━━━━━━━━━━━━━━━━━━━━━┳━━━━━━━━━━━━━━━━━━━━━━━━┳━━━━━━━━━━━━━━━┓\n┃\u001B[1m \u001B[0m\u001B[1mLayer (type)                   \u001B[0m\u001B[1m \u001B[0m┃\u001B[1m \u001B[0m\u001B[1mOutput Shape          \u001B[0m\u001B[1m \u001B[0m┃\u001B[1m \u001B[0m\u001B[1m      Param #\u001B[0m\u001B[1m \u001B[0m┃\n┡━━━━━━━━━━━━━━━━━━━━━━━━━━━━━━━━━╇━━━━━━━━━━━━━━━━━━━━━━━━╇━━━━━━━━━━━━━━━┩\n│ input_layer_5 (\u001B[38;5;33mInputLayer\u001B[0m)      │ (\u001B[38;5;45mNone\u001B[0m, \u001B[38;5;34m6\u001B[0m)              │             \u001B[38;5;34m0\u001B[0m │\n├─────────────────────────────────┼────────────────────────┼───────────────┤\n│ dense_19 (\u001B[38;5;33mDense\u001B[0m)                │ (\u001B[38;5;45mNone\u001B[0m, \u001B[38;5;34m32\u001B[0m)             │           \u001B[38;5;34m224\u001B[0m │\n├─────────────────────────────────┼────────────────────────┼───────────────┤\n│ dense_20 (\u001B[38;5;33mDense\u001B[0m)                │ (\u001B[38;5;45mNone\u001B[0m, \u001B[38;5;34m16\u001B[0m)             │           \u001B[38;5;34m528\u001B[0m │\n├─────────────────────────────────┼────────────────────────┼───────────────┤\n│ dense_21 (\u001B[38;5;33mDense\u001B[0m)                │ (\u001B[38;5;45mNone\u001B[0m, \u001B[38;5;34m8\u001B[0m)              │           \u001B[38;5;34m136\u001B[0m │\n├─────────────────────────────────┼────────────────────────┼───────────────┤\n│ dense_22 (\u001B[38;5;33mDense\u001B[0m)                │ (\u001B[38;5;45mNone\u001B[0m, \u001B[38;5;34m3\u001B[0m)              │            \u001B[38;5;34m27\u001B[0m │\n└─────────────────────────────────┴────────────────────────┴───────────────┘\n",
      "text/html": "<pre style=\"white-space:pre;overflow-x:auto;line-height:normal;font-family:Menlo,'DejaVu Sans Mono',consolas,'Courier New',monospace\">┏━━━━━━━━━━━━━━━━━━━━━━━━━━━━━━━━━┳━━━━━━━━━━━━━━━━━━━━━━━━┳━━━━━━━━━━━━━━━┓\n┃<span style=\"font-weight: bold\"> Layer (type)                    </span>┃<span style=\"font-weight: bold\"> Output Shape           </span>┃<span style=\"font-weight: bold\">       Param # </span>┃\n┡━━━━━━━━━━━━━━━━━━━━━━━━━━━━━━━━━╇━━━━━━━━━━━━━━━━━━━━━━━━╇━━━━━━━━━━━━━━━┩\n│ input_layer_5 (<span style=\"color: #0087ff; text-decoration-color: #0087ff\">InputLayer</span>)      │ (<span style=\"color: #00d7ff; text-decoration-color: #00d7ff\">None</span>, <span style=\"color: #00af00; text-decoration-color: #00af00\">6</span>)              │             <span style=\"color: #00af00; text-decoration-color: #00af00\">0</span> │\n├─────────────────────────────────┼────────────────────────┼───────────────┤\n│ dense_19 (<span style=\"color: #0087ff; text-decoration-color: #0087ff\">Dense</span>)                │ (<span style=\"color: #00d7ff; text-decoration-color: #00d7ff\">None</span>, <span style=\"color: #00af00; text-decoration-color: #00af00\">32</span>)             │           <span style=\"color: #00af00; text-decoration-color: #00af00\">224</span> │\n├─────────────────────────────────┼────────────────────────┼───────────────┤\n│ dense_20 (<span style=\"color: #0087ff; text-decoration-color: #0087ff\">Dense</span>)                │ (<span style=\"color: #00d7ff; text-decoration-color: #00d7ff\">None</span>, <span style=\"color: #00af00; text-decoration-color: #00af00\">16</span>)             │           <span style=\"color: #00af00; text-decoration-color: #00af00\">528</span> │\n├─────────────────────────────────┼────────────────────────┼───────────────┤\n│ dense_21 (<span style=\"color: #0087ff; text-decoration-color: #0087ff\">Dense</span>)                │ (<span style=\"color: #00d7ff; text-decoration-color: #00d7ff\">None</span>, <span style=\"color: #00af00; text-decoration-color: #00af00\">8</span>)              │           <span style=\"color: #00af00; text-decoration-color: #00af00\">136</span> │\n├─────────────────────────────────┼────────────────────────┼───────────────┤\n│ dense_22 (<span style=\"color: #0087ff; text-decoration-color: #0087ff\">Dense</span>)                │ (<span style=\"color: #00d7ff; text-decoration-color: #00d7ff\">None</span>, <span style=\"color: #00af00; text-decoration-color: #00af00\">3</span>)              │            <span style=\"color: #00af00; text-decoration-color: #00af00\">27</span> │\n└─────────────────────────────────┴────────────────────────┴───────────────┘\n</pre>\n"
     },
     "metadata": {},
     "output_type": "display_data"
    },
    {
     "data": {
      "text/plain": "\u001B[1m Total params: \u001B[0m\u001B[38;5;34m915\u001B[0m (3.57 KB)\n",
      "text/html": "<pre style=\"white-space:pre;overflow-x:auto;line-height:normal;font-family:Menlo,'DejaVu Sans Mono',consolas,'Courier New',monospace\"><span style=\"font-weight: bold\"> Total params: </span><span style=\"color: #00af00; text-decoration-color: #00af00\">915</span> (3.57 KB)\n</pre>\n"
     },
     "metadata": {},
     "output_type": "display_data"
    },
    {
     "data": {
      "text/plain": "\u001B[1m Trainable params: \u001B[0m\u001B[38;5;34m915\u001B[0m (3.57 KB)\n",
      "text/html": "<pre style=\"white-space:pre;overflow-x:auto;line-height:normal;font-family:Menlo,'DejaVu Sans Mono',consolas,'Courier New',monospace\"><span style=\"font-weight: bold\"> Trainable params: </span><span style=\"color: #00af00; text-decoration-color: #00af00\">915</span> (3.57 KB)\n</pre>\n"
     },
     "metadata": {},
     "output_type": "display_data"
    },
    {
     "data": {
      "text/plain": "\u001B[1m Non-trainable params: \u001B[0m\u001B[38;5;34m0\u001B[0m (0.00 B)\n",
      "text/html": "<pre style=\"white-space:pre;overflow-x:auto;line-height:normal;font-family:Menlo,'DejaVu Sans Mono',consolas,'Courier New',monospace\"><span style=\"font-weight: bold\"> Non-trainable params: </span><span style=\"color: #00af00; text-decoration-color: #00af00\">0</span> (0.00 B)\n</pre>\n"
     },
     "metadata": {},
     "output_type": "display_data"
    }
   ],
   "source": [
    "model.summary()"
   ],
   "metadata": {
    "collapsed": false,
    "ExecuteTime": {
     "end_time": "2024-07-05T13:24:29.321490Z",
     "start_time": "2024-07-05T13:24:29.007372Z"
    }
   },
   "id": "1914cdbbda6841bb",
   "execution_count": 31
  },
  {
   "cell_type": "code",
   "outputs": [
    {
     "name": "stdout",
     "output_type": "stream",
     "text": [
      "Epoch 1/100\n",
      "1/1 - 0s - 302ms/step - accuracy: 0.7500 - loss: 0.5459 - val_accuracy: 1.0000 - val_loss: 0.1827\n",
      "Epoch 2/100\n",
      "1/1 - 0s - 254ms/step - accuracy: 0.7500 - loss: 0.5433 - val_accuracy: 1.0000 - val_loss: 0.1811\n",
      "Epoch 3/100\n",
      "1/1 - 0s - 135ms/step - accuracy: 0.7500 - loss: 0.5409 - val_accuracy: 1.0000 - val_loss: 0.1793\n",
      "Epoch 4/100\n",
      "1/1 - 0s - 240ms/step - accuracy: 0.7500 - loss: 0.5384 - val_accuracy: 1.0000 - val_loss: 0.1773\n",
      "Epoch 5/100\n",
      "1/1 - 0s - 141ms/step - accuracy: 0.7500 - loss: 0.5364 - val_accuracy: 1.0000 - val_loss: 0.1746\n",
      "Epoch 6/100\n",
      "1/1 - 0s - 186ms/step - accuracy: 0.6667 - loss: 0.5341 - val_accuracy: 1.0000 - val_loss: 0.1726\n",
      "Epoch 7/100\n",
      "1/1 - 0s - 156ms/step - accuracy: 0.7500 - loss: 0.5317 - val_accuracy: 1.0000 - val_loss: 0.1710\n",
      "Epoch 8/100\n",
      "1/1 - 0s - 133ms/step - accuracy: 0.7500 - loss: 0.5296 - val_accuracy: 1.0000 - val_loss: 0.1692\n",
      "Epoch 9/100\n",
      "1/1 - 0s - 155ms/step - accuracy: 0.7500 - loss: 0.5275 - val_accuracy: 1.0000 - val_loss: 0.1674\n",
      "Epoch 10/100\n",
      "1/1 - 0s - 167ms/step - accuracy: 0.7500 - loss: 0.5253 - val_accuracy: 1.0000 - val_loss: 0.1656\n",
      "Epoch 11/100\n",
      "1/1 - 0s - 253ms/step - accuracy: 0.7500 - loss: 0.5235 - val_accuracy: 1.0000 - val_loss: 0.1633\n",
      "Epoch 12/100\n",
      "1/1 - 0s - 140ms/step - accuracy: 0.7500 - loss: 0.5213 - val_accuracy: 1.0000 - val_loss: 0.1614\n",
      "Epoch 13/100\n",
      "1/1 - 0s - 146ms/step - accuracy: 0.7500 - loss: 0.5194 - val_accuracy: 1.0000 - val_loss: 0.1597\n",
      "Epoch 14/100\n",
      "1/1 - 0s - 130ms/step - accuracy: 0.7500 - loss: 0.5175 - val_accuracy: 1.0000 - val_loss: 0.1576\n",
      "Epoch 15/100\n",
      "1/1 - 0s - 144ms/step - accuracy: 0.7500 - loss: 0.5160 - val_accuracy: 1.0000 - val_loss: 0.1559\n",
      "Epoch 16/100\n",
      "1/1 - 0s - 200ms/step - accuracy: 0.7500 - loss: 0.5143 - val_accuracy: 1.0000 - val_loss: 0.1545\n",
      "Epoch 17/100\n",
      "1/1 - 0s - 136ms/step - accuracy: 0.7500 - loss: 0.5124 - val_accuracy: 1.0000 - val_loss: 0.1535\n",
      "Epoch 18/100\n",
      "1/1 - 0s - 120ms/step - accuracy: 0.7500 - loss: 0.5109 - val_accuracy: 1.0000 - val_loss: 0.1524\n",
      "Epoch 19/100\n",
      "1/1 - 0s - 148ms/step - accuracy: 0.7500 - loss: 0.5093 - val_accuracy: 1.0000 - val_loss: 0.1510\n",
      "Epoch 20/100\n",
      "1/1 - 0s - 147ms/step - accuracy: 0.7500 - loss: 0.5077 - val_accuracy: 1.0000 - val_loss: 0.1498\n",
      "Epoch 21/100\n",
      "1/1 - 0s - 141ms/step - accuracy: 0.7500 - loss: 0.5063 - val_accuracy: 1.0000 - val_loss: 0.1486\n",
      "Epoch 22/100\n",
      "1/1 - 0s - 126ms/step - accuracy: 0.7500 - loss: 0.5045 - val_accuracy: 1.0000 - val_loss: 0.1476\n",
      "Epoch 23/100\n",
      "1/1 - 0s - 145ms/step - accuracy: 0.7500 - loss: 0.5022 - val_accuracy: 1.0000 - val_loss: 0.1484\n",
      "Epoch 24/100\n",
      "1/1 - 0s - 131ms/step - accuracy: 0.7500 - loss: 0.4984 - val_accuracy: 1.0000 - val_loss: 0.1490\n",
      "Epoch 25/100\n",
      "1/1 - 0s - 159ms/step - accuracy: 0.7500 - loss: 0.4939 - val_accuracy: 1.0000 - val_loss: 0.1499\n",
      "Epoch 26/100\n",
      "1/1 - 0s - 185ms/step - accuracy: 0.7500 - loss: 0.4886 - val_accuracy: 1.0000 - val_loss: 0.1516\n",
      "Epoch 27/100\n",
      "1/1 - 0s - 119ms/step - accuracy: 0.8333 - loss: 0.4841 - val_accuracy: 1.0000 - val_loss: 0.1533\n",
      "Epoch 28/100\n",
      "1/1 - 0s - 116ms/step - accuracy: 0.8333 - loss: 0.4811 - val_accuracy: 1.0000 - val_loss: 0.1546\n",
      "Epoch 29/100\n",
      "1/1 - 0s - 126ms/step - accuracy: 0.8333 - loss: 0.4779 - val_accuracy: 1.0000 - val_loss: 0.1556\n",
      "Epoch 30/100\n",
      "1/1 - 0s - 125ms/step - accuracy: 0.8333 - loss: 0.4749 - val_accuracy: 1.0000 - val_loss: 0.1566\n",
      "Epoch 31/100\n",
      "1/1 - 0s - 138ms/step - accuracy: 0.8333 - loss: 0.4728 - val_accuracy: 1.0000 - val_loss: 0.1581\n",
      "Epoch 32/100\n",
      "1/1 - 0s - 112ms/step - accuracy: 0.8333 - loss: 0.4704 - val_accuracy: 1.0000 - val_loss: 0.1589\n",
      "Epoch 33/100\n",
      "1/1 - 0s - 114ms/step - accuracy: 0.8333 - loss: 0.4684 - val_accuracy: 1.0000 - val_loss: 0.1598\n",
      "Epoch 34/100\n",
      "1/1 - 0s - 153ms/step - accuracy: 0.8333 - loss: 0.4659 - val_accuracy: 1.0000 - val_loss: 0.1606\n",
      "Epoch 35/100\n",
      "1/1 - 0s - 132ms/step - accuracy: 0.8333 - loss: 0.4641 - val_accuracy: 1.0000 - val_loss: 0.1607\n",
      "Epoch 36/100\n",
      "1/1 - 0s - 116ms/step - accuracy: 0.8333 - loss: 0.4620 - val_accuracy: 1.0000 - val_loss: 0.1605\n",
      "Epoch 37/100\n",
      "1/1 - 0s - 132ms/step - accuracy: 0.8333 - loss: 0.4597 - val_accuracy: 1.0000 - val_loss: 0.1600\n",
      "Epoch 38/100\n",
      "1/1 - 0s - 129ms/step - accuracy: 0.8333 - loss: 0.4572 - val_accuracy: 1.0000 - val_loss: 0.1597\n",
      "Epoch 39/100\n",
      "1/1 - 0s - 133ms/step - accuracy: 0.8333 - loss: 0.4545 - val_accuracy: 1.0000 - val_loss: 0.1602\n",
      "Epoch 40/100\n",
      "1/1 - 0s - 120ms/step - accuracy: 0.8333 - loss: 0.4521 - val_accuracy: 1.0000 - val_loss: 0.1606\n",
      "Epoch 41/100\n",
      "1/1 - 0s - 116ms/step - accuracy: 0.8333 - loss: 0.4504 - val_accuracy: 1.0000 - val_loss: 0.1605\n",
      "Epoch 42/100\n",
      "1/1 - 0s - 171ms/step - accuracy: 0.8333 - loss: 0.4485 - val_accuracy: 1.0000 - val_loss: 0.1597\n",
      "Epoch 43/100\n",
      "1/1 - 0s - 281ms/step - accuracy: 0.8333 - loss: 0.4465 - val_accuracy: 1.0000 - val_loss: 0.1585\n",
      "Epoch 44/100\n",
      "1/1 - 0s - 305ms/step - accuracy: 0.8333 - loss: 0.4443 - val_accuracy: 1.0000 - val_loss: 0.1569\n",
      "Epoch 45/100\n",
      "1/1 - 0s - 265ms/step - accuracy: 0.8333 - loss: 0.4424 - val_accuracy: 1.0000 - val_loss: 0.1556\n",
      "Epoch 46/100\n",
      "1/1 - 0s - 454ms/step - accuracy: 0.8333 - loss: 0.4403 - val_accuracy: 1.0000 - val_loss: 0.1545\n",
      "Epoch 47/100\n",
      "1/1 - 0s - 315ms/step - accuracy: 0.8333 - loss: 0.4386 - val_accuracy: 1.0000 - val_loss: 0.1531\n",
      "Epoch 48/100\n",
      "1/1 - 0s - 476ms/step - accuracy: 0.8333 - loss: 0.4370 - val_accuracy: 1.0000 - val_loss: 0.1512\n",
      "Epoch 49/100\n",
      "1/1 - 0s - 381ms/step - accuracy: 0.7500 - loss: 0.4353 - val_accuracy: 1.0000 - val_loss: 0.1495\n",
      "Epoch 50/100\n",
      "1/1 - 1s - 646ms/step - accuracy: 0.8333 - loss: 0.4334 - val_accuracy: 1.0000 - val_loss: 0.1476\n",
      "Epoch 51/100\n",
      "1/1 - 0s - 254ms/step - accuracy: 0.8333 - loss: 0.4315 - val_accuracy: 1.0000 - val_loss: 0.1456\n",
      "Epoch 52/100\n",
      "1/1 - 0s - 255ms/step - accuracy: 0.8333 - loss: 0.4295 - val_accuracy: 1.0000 - val_loss: 0.1436\n",
      "Epoch 53/100\n",
      "1/1 - 0s - 153ms/step - accuracy: 0.8333 - loss: 0.4286 - val_accuracy: 1.0000 - val_loss: 0.1420\n",
      "Epoch 54/100\n",
      "1/1 - 0s - 219ms/step - accuracy: 0.8333 - loss: 0.4268 - val_accuracy: 1.0000 - val_loss: 0.1408\n",
      "Epoch 55/100\n",
      "1/1 - 0s - 210ms/step - accuracy: 0.8333 - loss: 0.4247 - val_accuracy: 1.0000 - val_loss: 0.1393\n",
      "Epoch 56/100\n",
      "1/1 - 0s - 162ms/step - accuracy: 0.8333 - loss: 0.4233 - val_accuracy: 1.0000 - val_loss: 0.1376\n",
      "Epoch 57/100\n",
      "1/1 - 0s - 261ms/step - accuracy: 0.8333 - loss: 0.4220 - val_accuracy: 1.0000 - val_loss: 0.1362\n",
      "Epoch 58/100\n",
      "1/1 - 0s - 165ms/step - accuracy: 0.8333 - loss: 0.4206 - val_accuracy: 1.0000 - val_loss: 0.1350\n",
      "Epoch 59/100\n",
      "1/1 - 0s - 144ms/step - accuracy: 0.8333 - loss: 0.4191 - val_accuracy: 1.0000 - val_loss: 0.1340\n",
      "Epoch 60/100\n",
      "1/1 - 0s - 250ms/step - accuracy: 0.8333 - loss: 0.4175 - val_accuracy: 1.0000 - val_loss: 0.1329\n",
      "Epoch 61/100\n",
      "1/1 - 0s - 174ms/step - accuracy: 0.8333 - loss: 0.4162 - val_accuracy: 1.0000 - val_loss: 0.1323\n",
      "Epoch 62/100\n",
      "1/1 - 0s - 194ms/step - accuracy: 0.8333 - loss: 0.4146 - val_accuracy: 1.0000 - val_loss: 0.1316\n",
      "Epoch 63/100\n",
      "1/1 - 0s - 182ms/step - accuracy: 0.8333 - loss: 0.4133 - val_accuracy: 1.0000 - val_loss: 0.1309\n",
      "Epoch 64/100\n",
      "1/1 - 0s - 291ms/step - accuracy: 0.8333 - loss: 0.4121 - val_accuracy: 1.0000 - val_loss: 0.1309\n",
      "Epoch 65/100\n",
      "1/1 - 0s - 426ms/step - accuracy: 0.8333 - loss: 0.4109 - val_accuracy: 1.0000 - val_loss: 0.1305\n",
      "Epoch 66/100\n",
      "1/1 - 1s - 588ms/step - accuracy: 0.8333 - loss: 0.4099 - val_accuracy: 1.0000 - val_loss: 0.1297\n",
      "Epoch 67/100\n",
      "1/1 - 0s - 214ms/step - accuracy: 0.8333 - loss: 0.4088 - val_accuracy: 1.0000 - val_loss: 0.1285\n",
      "Epoch 68/100\n",
      "1/1 - 0s - 131ms/step - accuracy: 0.8333 - loss: 0.4077 - val_accuracy: 1.0000 - val_loss: 0.1269\n",
      "Epoch 69/100\n",
      "1/1 - 0s - 147ms/step - accuracy: 0.8333 - loss: 0.4065 - val_accuracy: 1.0000 - val_loss: 0.1250\n",
      "Epoch 70/100\n",
      "1/1 - 0s - 138ms/step - accuracy: 0.8333 - loss: 0.4052 - val_accuracy: 1.0000 - val_loss: 0.1229\n",
      "Epoch 71/100\n",
      "1/1 - 0s - 189ms/step - accuracy: 0.8333 - loss: 0.4046 - val_accuracy: 1.0000 - val_loss: 0.1212\n",
      "Epoch 72/100\n",
      "1/1 - 0s - 117ms/step - accuracy: 0.8333 - loss: 0.4032 - val_accuracy: 1.0000 - val_loss: 0.1198\n",
      "Epoch 73/100\n",
      "1/1 - 0s - 133ms/step - accuracy: 0.8333 - loss: 0.4023 - val_accuracy: 1.0000 - val_loss: 0.1187\n",
      "Epoch 74/100\n",
      "1/1 - 0s - 148ms/step - accuracy: 0.8333 - loss: 0.4013 - val_accuracy: 1.0000 - val_loss: 0.1177\n",
      "Epoch 75/100\n",
      "1/1 - 0s - 285ms/step - accuracy: 0.8333 - loss: 0.4003 - val_accuracy: 1.0000 - val_loss: 0.1169\n",
      "Epoch 76/100\n",
      "1/1 - 0s - 150ms/step - accuracy: 0.8333 - loss: 0.3998 - val_accuracy: 1.0000 - val_loss: 0.1171\n",
      "Epoch 77/100\n",
      "1/1 - 0s - 173ms/step - accuracy: 0.8333 - loss: 0.3986 - val_accuracy: 1.0000 - val_loss: 0.1174\n",
      "Epoch 78/100\n",
      "1/1 - 0s - 116ms/step - accuracy: 0.8333 - loss: 0.3978 - val_accuracy: 1.0000 - val_loss: 0.1178\n",
      "Epoch 79/100\n",
      "1/1 - 0s - 123ms/step - accuracy: 0.8333 - loss: 0.3971 - val_accuracy: 1.0000 - val_loss: 0.1179\n",
      "Epoch 80/100\n",
      "1/1 - 0s - 132ms/step - accuracy: 0.8333 - loss: 0.3963 - val_accuracy: 1.0000 - val_loss: 0.1187\n",
      "Epoch 81/100\n",
      "1/1 - 0s - 170ms/step - accuracy: 0.8333 - loss: 0.3955 - val_accuracy: 1.0000 - val_loss: 0.1195\n",
      "Epoch 82/100\n",
      "1/1 - 0s - 132ms/step - accuracy: 0.8333 - loss: 0.3947 - val_accuracy: 1.0000 - val_loss: 0.1200\n",
      "Epoch 83/100\n",
      "1/1 - 0s - 207ms/step - accuracy: 0.8333 - loss: 0.3938 - val_accuracy: 1.0000 - val_loss: 0.1200\n",
      "Epoch 84/100\n",
      "1/1 - 0s - 197ms/step - accuracy: 0.8333 - loss: 0.3935 - val_accuracy: 1.0000 - val_loss: 0.1202\n",
      "Epoch 85/100\n",
      "1/1 - 0s - 147ms/step - accuracy: 0.8333 - loss: 0.3924 - val_accuracy: 1.0000 - val_loss: 0.1199\n",
      "Epoch 86/100\n",
      "1/1 - 0s - 149ms/step - accuracy: 0.8333 - loss: 0.3918 - val_accuracy: 1.0000 - val_loss: 0.1192\n",
      "Epoch 87/100\n",
      "1/1 - 0s - 158ms/step - accuracy: 0.8333 - loss: 0.3912 - val_accuracy: 1.0000 - val_loss: 0.1183\n",
      "Epoch 88/100\n",
      "1/1 - 0s - 150ms/step - accuracy: 0.8333 - loss: 0.3905 - val_accuracy: 1.0000 - val_loss: 0.1178\n",
      "Epoch 89/100\n",
      "1/1 - 0s - 410ms/step - accuracy: 0.8333 - loss: 0.3899 - val_accuracy: 1.0000 - val_loss: 0.1181\n",
      "Epoch 90/100\n",
      "1/1 - 0s - 133ms/step - accuracy: 0.8333 - loss: 0.3892 - val_accuracy: 1.0000 - val_loss: 0.1192\n",
      "Epoch 91/100\n",
      "1/1 - 0s - 115ms/step - accuracy: 0.8333 - loss: 0.3888 - val_accuracy: 1.0000 - val_loss: 0.1215\n",
      "Epoch 92/100\n",
      "1/1 - 0s - 171ms/step - accuracy: 0.8333 - loss: 0.3881 - val_accuracy: 1.0000 - val_loss: 0.1232\n",
      "Epoch 93/100\n",
      "1/1 - 0s - 119ms/step - accuracy: 0.8333 - loss: 0.3877 - val_accuracy: 1.0000 - val_loss: 0.1244\n",
      "Epoch 94/100\n",
      "1/1 - 0s - 145ms/step - accuracy: 0.8333 - loss: 0.3873 - val_accuracy: 1.0000 - val_loss: 0.1250\n",
      "Epoch 95/100\n",
      "1/1 - 0s - 139ms/step - accuracy: 0.8333 - loss: 0.3868 - val_accuracy: 1.0000 - val_loss: 0.1254\n",
      "Epoch 96/100\n",
      "1/1 - 0s - 170ms/step - accuracy: 0.8333 - loss: 0.3863 - val_accuracy: 1.0000 - val_loss: 0.1256\n",
      "Epoch 97/100\n",
      "1/1 - 0s - 144ms/step - accuracy: 0.8333 - loss: 0.3858 - val_accuracy: 1.0000 - val_loss: 0.1257\n",
      "Epoch 98/100\n",
      "1/1 - 0s - 310ms/step - accuracy: 0.8333 - loss: 0.3853 - val_accuracy: 1.0000 - val_loss: 0.1259\n",
      "Epoch 99/100\n",
      "1/1 - 0s - 165ms/step - accuracy: 0.8333 - loss: 0.3847 - val_accuracy: 1.0000 - val_loss: 0.1262\n",
      "Epoch 100/100\n",
      "1/1 - 0s - 246ms/step - accuracy: 0.8333 - loss: 0.3843 - val_accuracy: 1.0000 - val_loss: 0.1273\n"
     ]
    }
   ],
   "source": [
    "history = model.fit(X_train, y_train, epochs=100, validation_data=(X_test, y_test), verbose=2)"
   ],
   "metadata": {
    "collapsed": false,
    "ExecuteTime": {
     "end_time": "2024-07-05T16:21:52.525013Z",
     "start_time": "2024-07-05T16:21:31.554638Z"
    }
   },
   "id": "a09b3978ca30e37b",
   "execution_count": 64
  },
  {
   "cell_type": "markdown",
   "source": [
    "Accuracy of 83.33% currently, simply need more data in order to make it better but for now this isn't bad, it also may be overfitting so keep that in mind"
   ],
   "metadata": {
    "collapsed": false
   },
   "id": "fb823ec798026ecb"
  },
  {
   "cell_type": "code",
   "outputs": [],
   "source": [],
   "metadata": {
    "collapsed": false
   },
   "id": "f663f8d19c377db"
  }
 ],
 "metadata": {
  "kernelspec": {
   "display_name": "Python 3",
   "language": "python",
   "name": "python3"
  },
  "language_info": {
   "codemirror_mode": {
    "name": "ipython",
    "version": 2
   },
   "file_extension": ".py",
   "mimetype": "text/x-python",
   "name": "python",
   "nbconvert_exporter": "python",
   "pygments_lexer": "ipython2",
   "version": "2.7.6"
  }
 },
 "nbformat": 4,
 "nbformat_minor": 5
}
