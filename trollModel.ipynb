{
 "cells": [
  {
   "cell_type": "code",
   "execution_count": 105,
   "id": "initial_id",
   "metadata": {
    "collapsed": true,
    "ExecuteTime": {
     "end_time": "2024-07-05T07:16:41.708985Z",
     "start_time": "2024-07-05T07:16:41.627347Z"
    }
   },
   "outputs": [],
   "source": [
    "# Import libraries\n",
    "\n",
    "import pandas as pd\n",
    "import tensorflow as tf\n",
    "from sklearn.preprocessing import LabelEncoder, OneHotEncoder\n",
    "from sklearn.compose import ColumnTransformer\n",
    "from sklearn.model_selection import train_test_split\n",
    "from sklearn.preprocessing import StandardScaler\n",
    "from tensorflow.keras import Input\n",
    "from tensorflow.keras.models import Sequential\n",
    "from tensorflow.keras.layers import Dense, Dropout\n",
    "from tensorflow.keras.models import Model"
   ]
  },
  {
   "cell_type": "code",
   "outputs": [
    {
     "name": "stdout",
     "output_type": "stream",
     "text": [
      "    Location            DateTime\n",
      "0     Stever 1900-06-30 23:09:00\n",
      "1     Stever 1900-07-01 22:34:00\n",
      "2     Stever 1900-07-01 16:00:00\n",
      "3     Stever 1900-07-01 22:46:00\n",
      "4  Forbes St 1900-07-02 18:51:00\n"
     ]
    }
   ],
   "source": [
    "import pandas as pd\n",
    "\n",
    "# Load the dataset without explicit date parsing\n",
    "file_path = 'justin.csv'\n",
    "df = pd.read_csv(file_path)\n",
    "\n",
    "# Preprocess 'Date' and 'Time' columns into a combined datetime column\n",
    "df['DateTime'] = pd.to_datetime(df['Date'] + ' ' + df['Time'], format='%m/%d %H:%M')\n",
    "\n",
    "# Drop the original 'Date' and 'Time' columns if not needed\n",
    "df.drop(['Date', 'Time'], axis=1, inplace=True)\n",
    "\n",
    "# Display the first few rows of the dataset to verify\n",
    "print(df.head())\n"
   ],
   "metadata": {
    "collapsed": false,
    "ExecuteTime": {
     "end_time": "2024-07-05T06:48:36.195647Z",
     "start_time": "2024-07-05T06:48:36.098009Z"
    }
   },
   "id": "83fcbf1c4d9fd4c2",
   "execution_count": 18
  },
  {
   "cell_type": "markdown",
   "source": [
    "Setup Time and Date in pandas correctly"
   ],
   "metadata": {
    "collapsed": false
   },
   "id": "b36d5431efc0cef3"
  },
  {
   "cell_type": "code",
   "outputs": [
    {
     "name": "stdout",
     "output_type": "stream",
     "text": [
      "    Location            DateTime  Hour  DayOfWeek  Location_Code\n",
      "0     Stever 1900-06-30 23:09:00    23          5              2\n",
      "1     Stever 1900-07-01 22:34:00    22          6              2\n",
      "2     Stever 1900-07-01 16:00:00    16          6              2\n",
      "3     Stever 1900-07-01 22:46:00    22          6              2\n",
      "4  Forbes St 1900-07-02 18:51:00    18          0              1\n"
     ]
    }
   ],
   "source": [
    "# Assuming df is your DataFrame with 'Date', 'Time', and 'Location' columns\n",
    "\n",
    "# Extract features from datetime\n",
    "df['Hour'] = df['DateTime'].dt.hour\n",
    "df['DayOfWeek'] = df['DateTime'].dt.dayofweek\n",
    "\n",
    "# Encode categorical 'Location' labels\n",
    "label_encoder = LabelEncoder()\n",
    "df['Location_Code'] = label_encoder.fit_transform(df['Location'])\n",
    "\n",
    "# Prepare features (X) and target (y)\n",
    "X = df[['Hour', 'DayOfWeek']].values\n",
    "y = df['Location_Code'].values\n",
    "\n",
    "# Display the first few rows of the processed DataFrame to verify\n",
    "print(df.head())"
   ],
   "metadata": {
    "collapsed": false,
    "ExecuteTime": {
     "end_time": "2024-07-05T06:48:39.376463Z",
     "start_time": "2024-07-05T06:48:39.191140Z"
    }
   },
   "id": "879c481c5c3fd23d",
   "execution_count": 19
  },
  {
   "cell_type": "markdown",
   "source": [
    "Setup OneHotEncoder"
   ],
   "metadata": {
    "collapsed": false
   },
   "id": "9b00a41e84be6af2"
  },
  {
   "cell_type": "code",
   "outputs": [],
   "source": [
    "# One-hot encode categorical features (DayOfWeek)\n",
    "ct = ColumnTransformer(\n",
    "    [('one_hot_encoder', OneHotEncoder(categories='auto'), [1])],\n",
    "    remainder='passthrough'\n",
    ")\n",
    "X = ct.fit_transform(X)"
   ],
   "metadata": {
    "collapsed": false,
    "ExecuteTime": {
     "end_time": "2024-07-05T07:00:08.564410Z",
     "start_time": "2024-07-05T07:00:08.513846Z"
    }
   },
   "id": "89f74e341003b3fa",
   "execution_count": 53
  },
  {
   "cell_type": "markdown",
   "source": [
    "Splitting dataset into training and testing"
   ],
   "metadata": {
    "collapsed": false
   },
   "id": "563dba3df6c10910"
  },
  {
   "cell_type": "code",
   "outputs": [],
   "source": [
    "X_train, X_test, y_train, y_test = train_test_split(X, y, test_size=0.2, random_state=42)"
   ],
   "metadata": {
    "collapsed": false,
    "ExecuteTime": {
     "end_time": "2024-07-05T07:07:14.561745Z",
     "start_time": "2024-07-05T07:07:14.522600Z"
    }
   },
   "id": "f61e1b7e5800e434",
   "execution_count": 74
  },
  {
   "cell_type": "markdown",
   "source": [
    "Standarization via scaling"
   ],
   "metadata": {
    "collapsed": false
   },
   "id": "b58b8708a560b16f"
  },
  {
   "cell_type": "code",
   "outputs": [],
   "source": [
    "scaler = StandardScaler()\n",
    "X_train = scaler.fit_transform(X_train)\n",
    "X_test = scaler.transform(X_test)"
   ],
   "metadata": {
    "collapsed": false,
    "ExecuteTime": {
     "end_time": "2024-07-05T07:07:16.204929Z",
     "start_time": "2024-07-05T07:07:16.053563Z"
    }
   },
   "id": "a812a869f196bba8",
   "execution_count": 75
  },
  {
   "cell_type": "markdown",
   "source": [
    "Defining model"
   ],
   "metadata": {
    "collapsed": false
   },
   "id": "f69b03e80c9d29e5"
  },
  {
   "cell_type": "code",
   "outputs": [],
   "source": [
    "input_shape = (7,)  # Adjust according to your data\n",
    "\n",
    "# Input layer\n",
    "inputs = Input(shape=input_shape)\n",
    "\n",
    "# Hidden layers\n",
    "x = Dense(32, activation='relu')(inputs)\n",
    "x = Dense(16, activation='relu')(x)\n",
    "\n",
    "# Output layer\n",
    "outputs = Dense(1, activation='sigmoid')(x)  # Example output layer for binary classification\n",
    "\n",
    "# Create the model\n",
    "model = Model(inputs=inputs, outputs=outputs)\n",
    "\n",
    "# Compile the model\n",
    "model.compile(optimizer='adam', loss='binary_crossentropy', metrics=['accuracy'])\n"
   ],
   "metadata": {
    "collapsed": false,
    "ExecuteTime": {
     "end_time": "2024-07-05T07:17:59.992022Z",
     "start_time": "2024-07-05T07:17:59.838092Z"
    }
   },
   "id": "492b9bfce4a06136",
   "execution_count": 114
  },
  {
   "cell_type": "markdown",
   "source": [
    "Model Summary"
   ],
   "metadata": {
    "collapsed": false
   },
   "id": "8a8124804282cc85"
  },
  {
   "cell_type": "code",
   "outputs": [
    {
     "data": {
      "text/plain": "\u001B[1mModel: \"functional_40\"\u001B[0m\n",
      "text/html": "<pre style=\"white-space:pre;overflow-x:auto;line-height:normal;font-family:Menlo,'DejaVu Sans Mono',consolas,'Courier New',monospace\"><span style=\"font-weight: bold\">Model: \"functional_40\"</span>\n</pre>\n"
     },
     "metadata": {},
     "output_type": "display_data"
    },
    {
     "data": {
      "text/plain": "┏━━━━━━━━━━━━━━━━━━━━━━━━━━━━━━━━━┳━━━━━━━━━━━━━━━━━━━━━━━━┳━━━━━━━━━━━━━━━┓\n┃\u001B[1m \u001B[0m\u001B[1mLayer (type)                   \u001B[0m\u001B[1m \u001B[0m┃\u001B[1m \u001B[0m\u001B[1mOutput Shape          \u001B[0m\u001B[1m \u001B[0m┃\u001B[1m \u001B[0m\u001B[1m      Param #\u001B[0m\u001B[1m \u001B[0m┃\n┡━━━━━━━━━━━━━━━━━━━━━━━━━━━━━━━━━╇━━━━━━━━━━━━━━━━━━━━━━━━╇━━━━━━━━━━━━━━━┩\n│ input_layer_21 (\u001B[38;5;33mInputLayer\u001B[0m)     │ (\u001B[38;5;45mNone\u001B[0m, \u001B[38;5;34m7\u001B[0m)              │             \u001B[38;5;34m0\u001B[0m │\n├─────────────────────────────────┼────────────────────────┼───────────────┤\n│ dense_64 (\u001B[38;5;33mDense\u001B[0m)                │ (\u001B[38;5;45mNone\u001B[0m, \u001B[38;5;34m32\u001B[0m)             │           \u001B[38;5;34m256\u001B[0m │\n├─────────────────────────────────┼────────────────────────┼───────────────┤\n│ dense_65 (\u001B[38;5;33mDense\u001B[0m)                │ (\u001B[38;5;45mNone\u001B[0m, \u001B[38;5;34m16\u001B[0m)             │           \u001B[38;5;34m528\u001B[0m │\n├─────────────────────────────────┼────────────────────────┼───────────────┤\n│ dense_66 (\u001B[38;5;33mDense\u001B[0m)                │ (\u001B[38;5;45mNone\u001B[0m, \u001B[38;5;34m1\u001B[0m)              │            \u001B[38;5;34m17\u001B[0m │\n└─────────────────────────────────┴────────────────────────┴───────────────┘\n",
      "text/html": "<pre style=\"white-space:pre;overflow-x:auto;line-height:normal;font-family:Menlo,'DejaVu Sans Mono',consolas,'Courier New',monospace\">┏━━━━━━━━━━━━━━━━━━━━━━━━━━━━━━━━━┳━━━━━━━━━━━━━━━━━━━━━━━━┳━━━━━━━━━━━━━━━┓\n┃<span style=\"font-weight: bold\"> Layer (type)                    </span>┃<span style=\"font-weight: bold\"> Output Shape           </span>┃<span style=\"font-weight: bold\">       Param # </span>┃\n┡━━━━━━━━━━━━━━━━━━━━━━━━━━━━━━━━━╇━━━━━━━━━━━━━━━━━━━━━━━━╇━━━━━━━━━━━━━━━┩\n│ input_layer_21 (<span style=\"color: #0087ff; text-decoration-color: #0087ff\">InputLayer</span>)     │ (<span style=\"color: #00d7ff; text-decoration-color: #00d7ff\">None</span>, <span style=\"color: #00af00; text-decoration-color: #00af00\">7</span>)              │             <span style=\"color: #00af00; text-decoration-color: #00af00\">0</span> │\n├─────────────────────────────────┼────────────────────────┼───────────────┤\n│ dense_64 (<span style=\"color: #0087ff; text-decoration-color: #0087ff\">Dense</span>)                │ (<span style=\"color: #00d7ff; text-decoration-color: #00d7ff\">None</span>, <span style=\"color: #00af00; text-decoration-color: #00af00\">32</span>)             │           <span style=\"color: #00af00; text-decoration-color: #00af00\">256</span> │\n├─────────────────────────────────┼────────────────────────┼───────────────┤\n│ dense_65 (<span style=\"color: #0087ff; text-decoration-color: #0087ff\">Dense</span>)                │ (<span style=\"color: #00d7ff; text-decoration-color: #00d7ff\">None</span>, <span style=\"color: #00af00; text-decoration-color: #00af00\">16</span>)             │           <span style=\"color: #00af00; text-decoration-color: #00af00\">528</span> │\n├─────────────────────────────────┼────────────────────────┼───────────────┤\n│ dense_66 (<span style=\"color: #0087ff; text-decoration-color: #0087ff\">Dense</span>)                │ (<span style=\"color: #00d7ff; text-decoration-color: #00d7ff\">None</span>, <span style=\"color: #00af00; text-decoration-color: #00af00\">1</span>)              │            <span style=\"color: #00af00; text-decoration-color: #00af00\">17</span> │\n└─────────────────────────────────┴────────────────────────┴───────────────┘\n</pre>\n"
     },
     "metadata": {},
     "output_type": "display_data"
    },
    {
     "data": {
      "text/plain": "\u001B[1m Total params: \u001B[0m\u001B[38;5;34m801\u001B[0m (3.13 KB)\n",
      "text/html": "<pre style=\"white-space:pre;overflow-x:auto;line-height:normal;font-family:Menlo,'DejaVu Sans Mono',consolas,'Courier New',monospace\"><span style=\"font-weight: bold\"> Total params: </span><span style=\"color: #00af00; text-decoration-color: #00af00\">801</span> (3.13 KB)\n</pre>\n"
     },
     "metadata": {},
     "output_type": "display_data"
    },
    {
     "data": {
      "text/plain": "\u001B[1m Trainable params: \u001B[0m\u001B[38;5;34m801\u001B[0m (3.13 KB)\n",
      "text/html": "<pre style=\"white-space:pre;overflow-x:auto;line-height:normal;font-family:Menlo,'DejaVu Sans Mono',consolas,'Courier New',monospace\"><span style=\"font-weight: bold\"> Trainable params: </span><span style=\"color: #00af00; text-decoration-color: #00af00\">801</span> (3.13 KB)\n</pre>\n"
     },
     "metadata": {},
     "output_type": "display_data"
    },
    {
     "data": {
      "text/plain": "\u001B[1m Non-trainable params: \u001B[0m\u001B[38;5;34m0\u001B[0m (0.00 B)\n",
      "text/html": "<pre style=\"white-space:pre;overflow-x:auto;line-height:normal;font-family:Menlo,'DejaVu Sans Mono',consolas,'Courier New',monospace\"><span style=\"font-weight: bold\"> Non-trainable params: </span><span style=\"color: #00af00; text-decoration-color: #00af00\">0</span> (0.00 B)\n</pre>\n"
     },
     "metadata": {},
     "output_type": "display_data"
    }
   ],
   "source": [
    "model.summary()"
   ],
   "metadata": {
    "collapsed": false,
    "ExecuteTime": {
     "end_time": "2024-07-05T07:18:02.302280Z",
     "start_time": "2024-07-05T07:18:01.969014Z"
    }
   },
   "id": "1914cdbbda6841bb",
   "execution_count": 115
  },
  {
   "cell_type": "markdown",
   "source": [
    "Compile Model"
   ],
   "metadata": {
    "collapsed": false
   },
   "id": "3c3db6b15c99f386"
  },
  {
   "cell_type": "code",
   "outputs": [],
   "source": [
    "model.compile(optimizer='adam', loss='sparse_categorical_crossentropy', metrics=['accuracy'])"
   ],
   "metadata": {
    "collapsed": false,
    "ExecuteTime": {
     "end_time": "2024-07-05T07:18:07.042692Z",
     "start_time": "2024-07-05T07:18:06.914103Z"
    }
   },
   "id": "2fa40327303331e2",
   "execution_count": 116
  },
  {
   "cell_type": "markdown",
   "source": [],
   "metadata": {
    "collapsed": false
   },
   "id": "e62178fe4b45b28e"
  },
  {
   "cell_type": "code",
   "outputs": [
    {
     "name": "stdout",
     "output_type": "stream",
     "text": [
      "Epoch 1/50\n"
     ]
    },
    {
     "name": "stderr",
     "output_type": "stream",
     "text": [
      "2024-07-05 03:18:16.276346: W tensorflow/core/framework/op_kernel.cc:1839] OP_REQUIRES failed at sparse_xent_op.cc:103 : INVALID_ARGUMENT: Received a label value of 3 which is outside the valid range of [0, 1).  Label values: 2 2 2 0 0 0 2 2 3 1 2 2\n",
      "2024-07-05 03:18:16.276530: W tensorflow/core/framework/local_rendezvous.cc:404] Local rendezvous is aborting with status: INVALID_ARGUMENT: Received a label value of 3 which is outside the valid range of [0, 1).  Label values: 2 2 2 0 0 0 2 2 3 1 2 2\n",
      "\t [[{{function_node __inference_one_step_on_data_2794}}{{node compile_loss/sparse_categorical_crossentropy/SparseSoftmaxCrossEntropyWithLogits/SparseSoftmaxCrossEntropyWithLogits}}]]\n"
     ]
    },
    {
     "ename": "InvalidArgumentError",
     "evalue": "Graph execution error:\n\nDetected at node compile_loss/sparse_categorical_crossentropy/SparseSoftmaxCrossEntropyWithLogits/SparseSoftmaxCrossEntropyWithLogits defined at (most recent call last):\n  File \"/Users/alexanderokenczyc/anaconda3/envs/EnvTensor/lib/python3.10/runpy.py\", line 196, in _run_module_as_main\n\n  File \"/Users/alexanderokenczyc/anaconda3/envs/EnvTensor/lib/python3.10/runpy.py\", line 86, in _run_code\n\n  File \"/Users/alexanderokenczyc/anaconda3/envs/EnvTensor/lib/python3.10/site-packages/ipykernel_launcher.py\", line 17, in <module>\n\n  File \"/Users/alexanderokenczyc/anaconda3/envs/EnvTensor/lib/python3.10/site-packages/traitlets/config/application.py\", line 992, in launch_instance\n\n  File \"/Users/alexanderokenczyc/anaconda3/envs/EnvTensor/lib/python3.10/site-packages/ipykernel/kernelapp.py\", line 736, in start\n\n  File \"/Users/alexanderokenczyc/anaconda3/envs/EnvTensor/lib/python3.10/site-packages/tornado/platform/asyncio.py\", line 195, in start\n\n  File \"/Users/alexanderokenczyc/anaconda3/envs/EnvTensor/lib/python3.10/asyncio/base_events.py\", line 603, in run_forever\n\n  File \"/Users/alexanderokenczyc/anaconda3/envs/EnvTensor/lib/python3.10/asyncio/base_events.py\", line 1909, in _run_once\n\n  File \"/Users/alexanderokenczyc/anaconda3/envs/EnvTensor/lib/python3.10/asyncio/events.py\", line 80, in _run\n\n  File \"/Users/alexanderokenczyc/anaconda3/envs/EnvTensor/lib/python3.10/site-packages/ipykernel/kernelbase.py\", line 516, in dispatch_queue\n\n  File \"/Users/alexanderokenczyc/anaconda3/envs/EnvTensor/lib/python3.10/site-packages/ipykernel/kernelbase.py\", line 505, in process_one\n\n  File \"/Users/alexanderokenczyc/anaconda3/envs/EnvTensor/lib/python3.10/site-packages/ipykernel/kernelbase.py\", line 412, in dispatch_shell\n\n  File \"/Users/alexanderokenczyc/anaconda3/envs/EnvTensor/lib/python3.10/site-packages/ipykernel/kernelbase.py\", line 740, in execute_request\n\n  File \"/Users/alexanderokenczyc/anaconda3/envs/EnvTensor/lib/python3.10/site-packages/ipykernel/ipkernel.py\", line 422, in do_execute\n\n  File \"/Users/alexanderokenczyc/anaconda3/envs/EnvTensor/lib/python3.10/site-packages/ipykernel/zmqshell.py\", line 546, in run_cell\n\n  File \"/Users/alexanderokenczyc/anaconda3/envs/EnvTensor/lib/python3.10/site-packages/IPython/core/interactiveshell.py\", line 3024, in run_cell\n\n  File \"/Users/alexanderokenczyc/anaconda3/envs/EnvTensor/lib/python3.10/site-packages/IPython/core/interactiveshell.py\", line 3079, in _run_cell\n\n  File \"/Users/alexanderokenczyc/anaconda3/envs/EnvTensor/lib/python3.10/site-packages/IPython/core/async_helpers.py\", line 129, in _pseudo_sync_runner\n\n  File \"/Users/alexanderokenczyc/anaconda3/envs/EnvTensor/lib/python3.10/site-packages/IPython/core/interactiveshell.py\", line 3284, in run_cell_async\n\n  File \"/Users/alexanderokenczyc/anaconda3/envs/EnvTensor/lib/python3.10/site-packages/IPython/core/interactiveshell.py\", line 3466, in run_ast_nodes\n\n  File \"/Users/alexanderokenczyc/anaconda3/envs/EnvTensor/lib/python3.10/site-packages/IPython/core/interactiveshell.py\", line 3526, in run_code\n\n  File \"/var/folders/1c/7hfm2srd26gcxx1js9h8wgkw0000gn/T/ipykernel_21272/872155553.py\", line 1, in <module>\n\n  File \"/Users/alexanderokenczyc/anaconda3/envs/EnvTensor/lib/python3.10/site-packages/keras/src/utils/traceback_utils.py\", line 117, in error_handler\n\n  File \"/Users/alexanderokenczyc/anaconda3/envs/EnvTensor/lib/python3.10/site-packages/keras/src/backend/tensorflow/trainer.py\", line 318, in fit\n\n  File \"/Users/alexanderokenczyc/anaconda3/envs/EnvTensor/lib/python3.10/site-packages/keras/src/backend/tensorflow/trainer.py\", line 121, in one_step_on_iterator\n\n  File \"/Users/alexanderokenczyc/anaconda3/envs/EnvTensor/lib/python3.10/site-packages/keras/src/backend/tensorflow/trainer.py\", line 108, in one_step_on_data\n\n  File \"/Users/alexanderokenczyc/anaconda3/envs/EnvTensor/lib/python3.10/site-packages/keras/src/backend/tensorflow/trainer.py\", line 54, in train_step\n\n  File \"/Users/alexanderokenczyc/anaconda3/envs/EnvTensor/lib/python3.10/site-packages/keras/src/trainers/trainer.py\", line 357, in _compute_loss\n\n  File \"/Users/alexanderokenczyc/anaconda3/envs/EnvTensor/lib/python3.10/site-packages/keras/src/trainers/trainer.py\", line 325, in compute_loss\n\n  File \"/Users/alexanderokenczyc/anaconda3/envs/EnvTensor/lib/python3.10/site-packages/keras/src/trainers/compile_utils.py\", line 609, in __call__\n\n  File \"/Users/alexanderokenczyc/anaconda3/envs/EnvTensor/lib/python3.10/site-packages/keras/src/trainers/compile_utils.py\", line 645, in call\n\n  File \"/Users/alexanderokenczyc/anaconda3/envs/EnvTensor/lib/python3.10/site-packages/keras/src/losses/loss.py\", line 43, in __call__\n\n  File \"/Users/alexanderokenczyc/anaconda3/envs/EnvTensor/lib/python3.10/site-packages/keras/src/losses/losses.py\", line 27, in call\n\n  File \"/Users/alexanderokenczyc/anaconda3/envs/EnvTensor/lib/python3.10/site-packages/keras/src/losses/losses.py\", line 1853, in sparse_categorical_crossentropy\n\n  File \"/Users/alexanderokenczyc/anaconda3/envs/EnvTensor/lib/python3.10/site-packages/keras/src/ops/nn.py\", line 1567, in sparse_categorical_crossentropy\n\n  File \"/Users/alexanderokenczyc/anaconda3/envs/EnvTensor/lib/python3.10/site-packages/keras/src/backend/tensorflow/nn.py\", line 645, in sparse_categorical_crossentropy\n\nReceived a label value of 3 which is outside the valid range of [0, 1).  Label values: 2 2 2 0 0 0 2 2 3 1 2 2\n\t [[{{node compile_loss/sparse_categorical_crossentropy/SparseSoftmaxCrossEntropyWithLogits/SparseSoftmaxCrossEntropyWithLogits}}]] [Op:__inference_one_step_on_iterator_2847]",
     "output_type": "error",
     "traceback": [
      "\u001B[0;31m---------------------------------------------------------------------------\u001B[0m",
      "\u001B[0;31mInvalidArgumentError\u001B[0m                      Traceback (most recent call last)",
      "Cell \u001B[0;32mIn[117], line 1\u001B[0m\n\u001B[0;32m----> 1\u001B[0m history \u001B[38;5;241m=\u001B[39m \u001B[43mmodel\u001B[49m\u001B[38;5;241;43m.\u001B[39;49m\u001B[43mfit\u001B[49m\u001B[43m(\u001B[49m\u001B[43mX_train\u001B[49m\u001B[43m,\u001B[49m\u001B[43m \u001B[49m\u001B[43my_train\u001B[49m\u001B[43m,\u001B[49m\u001B[43m \u001B[49m\u001B[43mepochs\u001B[49m\u001B[38;5;241;43m=\u001B[39;49m\u001B[38;5;241;43m50\u001B[39;49m\u001B[43m,\u001B[49m\u001B[43m \u001B[49m\u001B[43mbatch_size\u001B[49m\u001B[38;5;241;43m=\u001B[39;49m\u001B[38;5;241;43m32\u001B[39;49m\u001B[43m,\u001B[49m\u001B[43m \u001B[49m\u001B[43mvalidation_data\u001B[49m\u001B[38;5;241;43m=\u001B[39;49m\u001B[43m(\u001B[49m\u001B[43mX_test\u001B[49m\u001B[43m,\u001B[49m\u001B[43m \u001B[49m\u001B[43my_test\u001B[49m\u001B[43m)\u001B[49m\u001B[43m)\u001B[49m\n",
      "File \u001B[0;32m~/anaconda3/envs/EnvTensor/lib/python3.10/site-packages/keras/src/utils/traceback_utils.py:122\u001B[0m, in \u001B[0;36mfilter_traceback.<locals>.error_handler\u001B[0;34m(*args, **kwargs)\u001B[0m\n\u001B[1;32m    119\u001B[0m     filtered_tb \u001B[38;5;241m=\u001B[39m _process_traceback_frames(e\u001B[38;5;241m.\u001B[39m__traceback__)\n\u001B[1;32m    120\u001B[0m     \u001B[38;5;66;03m# To get the full stack trace, call:\u001B[39;00m\n\u001B[1;32m    121\u001B[0m     \u001B[38;5;66;03m# `keras.config.disable_traceback_filtering()`\u001B[39;00m\n\u001B[0;32m--> 122\u001B[0m     \u001B[38;5;28;01mraise\u001B[39;00m e\u001B[38;5;241m.\u001B[39mwith_traceback(filtered_tb) \u001B[38;5;28;01mfrom\u001B[39;00m \u001B[38;5;28;01mNone\u001B[39;00m\n\u001B[1;32m    123\u001B[0m \u001B[38;5;28;01mfinally\u001B[39;00m:\n\u001B[1;32m    124\u001B[0m     \u001B[38;5;28;01mdel\u001B[39;00m filtered_tb\n",
      "File \u001B[0;32m~/anaconda3/envs/EnvTensor/lib/python3.10/site-packages/tensorflow/python/eager/execute.py:53\u001B[0m, in \u001B[0;36mquick_execute\u001B[0;34m(op_name, num_outputs, inputs, attrs, ctx, name)\u001B[0m\n\u001B[1;32m     51\u001B[0m \u001B[38;5;28;01mtry\u001B[39;00m:\n\u001B[1;32m     52\u001B[0m   ctx\u001B[38;5;241m.\u001B[39mensure_initialized()\n\u001B[0;32m---> 53\u001B[0m   tensors \u001B[38;5;241m=\u001B[39m pywrap_tfe\u001B[38;5;241m.\u001B[39mTFE_Py_Execute(ctx\u001B[38;5;241m.\u001B[39m_handle, device_name, op_name,\n\u001B[1;32m     54\u001B[0m                                       inputs, attrs, num_outputs)\n\u001B[1;32m     55\u001B[0m \u001B[38;5;28;01mexcept\u001B[39;00m core\u001B[38;5;241m.\u001B[39m_NotOkStatusException \u001B[38;5;28;01mas\u001B[39;00m e:\n\u001B[1;32m     56\u001B[0m   \u001B[38;5;28;01mif\u001B[39;00m name \u001B[38;5;129;01mis\u001B[39;00m \u001B[38;5;129;01mnot\u001B[39;00m \u001B[38;5;28;01mNone\u001B[39;00m:\n",
      "\u001B[0;31mInvalidArgumentError\u001B[0m: Graph execution error:\n\nDetected at node compile_loss/sparse_categorical_crossentropy/SparseSoftmaxCrossEntropyWithLogits/SparseSoftmaxCrossEntropyWithLogits defined at (most recent call last):\n  File \"/Users/alexanderokenczyc/anaconda3/envs/EnvTensor/lib/python3.10/runpy.py\", line 196, in _run_module_as_main\n\n  File \"/Users/alexanderokenczyc/anaconda3/envs/EnvTensor/lib/python3.10/runpy.py\", line 86, in _run_code\n\n  File \"/Users/alexanderokenczyc/anaconda3/envs/EnvTensor/lib/python3.10/site-packages/ipykernel_launcher.py\", line 17, in <module>\n\n  File \"/Users/alexanderokenczyc/anaconda3/envs/EnvTensor/lib/python3.10/site-packages/traitlets/config/application.py\", line 992, in launch_instance\n\n  File \"/Users/alexanderokenczyc/anaconda3/envs/EnvTensor/lib/python3.10/site-packages/ipykernel/kernelapp.py\", line 736, in start\n\n  File \"/Users/alexanderokenczyc/anaconda3/envs/EnvTensor/lib/python3.10/site-packages/tornado/platform/asyncio.py\", line 195, in start\n\n  File \"/Users/alexanderokenczyc/anaconda3/envs/EnvTensor/lib/python3.10/asyncio/base_events.py\", line 603, in run_forever\n\n  File \"/Users/alexanderokenczyc/anaconda3/envs/EnvTensor/lib/python3.10/asyncio/base_events.py\", line 1909, in _run_once\n\n  File \"/Users/alexanderokenczyc/anaconda3/envs/EnvTensor/lib/python3.10/asyncio/events.py\", line 80, in _run\n\n  File \"/Users/alexanderokenczyc/anaconda3/envs/EnvTensor/lib/python3.10/site-packages/ipykernel/kernelbase.py\", line 516, in dispatch_queue\n\n  File \"/Users/alexanderokenczyc/anaconda3/envs/EnvTensor/lib/python3.10/site-packages/ipykernel/kernelbase.py\", line 505, in process_one\n\n  File \"/Users/alexanderokenczyc/anaconda3/envs/EnvTensor/lib/python3.10/site-packages/ipykernel/kernelbase.py\", line 412, in dispatch_shell\n\n  File \"/Users/alexanderokenczyc/anaconda3/envs/EnvTensor/lib/python3.10/site-packages/ipykernel/kernelbase.py\", line 740, in execute_request\n\n  File \"/Users/alexanderokenczyc/anaconda3/envs/EnvTensor/lib/python3.10/site-packages/ipykernel/ipkernel.py\", line 422, in do_execute\n\n  File \"/Users/alexanderokenczyc/anaconda3/envs/EnvTensor/lib/python3.10/site-packages/ipykernel/zmqshell.py\", line 546, in run_cell\n\n  File \"/Users/alexanderokenczyc/anaconda3/envs/EnvTensor/lib/python3.10/site-packages/IPython/core/interactiveshell.py\", line 3024, in run_cell\n\n  File \"/Users/alexanderokenczyc/anaconda3/envs/EnvTensor/lib/python3.10/site-packages/IPython/core/interactiveshell.py\", line 3079, in _run_cell\n\n  File \"/Users/alexanderokenczyc/anaconda3/envs/EnvTensor/lib/python3.10/site-packages/IPython/core/async_helpers.py\", line 129, in _pseudo_sync_runner\n\n  File \"/Users/alexanderokenczyc/anaconda3/envs/EnvTensor/lib/python3.10/site-packages/IPython/core/interactiveshell.py\", line 3284, in run_cell_async\n\n  File \"/Users/alexanderokenczyc/anaconda3/envs/EnvTensor/lib/python3.10/site-packages/IPython/core/interactiveshell.py\", line 3466, in run_ast_nodes\n\n  File \"/Users/alexanderokenczyc/anaconda3/envs/EnvTensor/lib/python3.10/site-packages/IPython/core/interactiveshell.py\", line 3526, in run_code\n\n  File \"/var/folders/1c/7hfm2srd26gcxx1js9h8wgkw0000gn/T/ipykernel_21272/872155553.py\", line 1, in <module>\n\n  File \"/Users/alexanderokenczyc/anaconda3/envs/EnvTensor/lib/python3.10/site-packages/keras/src/utils/traceback_utils.py\", line 117, in error_handler\n\n  File \"/Users/alexanderokenczyc/anaconda3/envs/EnvTensor/lib/python3.10/site-packages/keras/src/backend/tensorflow/trainer.py\", line 318, in fit\n\n  File \"/Users/alexanderokenczyc/anaconda3/envs/EnvTensor/lib/python3.10/site-packages/keras/src/backend/tensorflow/trainer.py\", line 121, in one_step_on_iterator\n\n  File \"/Users/alexanderokenczyc/anaconda3/envs/EnvTensor/lib/python3.10/site-packages/keras/src/backend/tensorflow/trainer.py\", line 108, in one_step_on_data\n\n  File \"/Users/alexanderokenczyc/anaconda3/envs/EnvTensor/lib/python3.10/site-packages/keras/src/backend/tensorflow/trainer.py\", line 54, in train_step\n\n  File \"/Users/alexanderokenczyc/anaconda3/envs/EnvTensor/lib/python3.10/site-packages/keras/src/trainers/trainer.py\", line 357, in _compute_loss\n\n  File \"/Users/alexanderokenczyc/anaconda3/envs/EnvTensor/lib/python3.10/site-packages/keras/src/trainers/trainer.py\", line 325, in compute_loss\n\n  File \"/Users/alexanderokenczyc/anaconda3/envs/EnvTensor/lib/python3.10/site-packages/keras/src/trainers/compile_utils.py\", line 609, in __call__\n\n  File \"/Users/alexanderokenczyc/anaconda3/envs/EnvTensor/lib/python3.10/site-packages/keras/src/trainers/compile_utils.py\", line 645, in call\n\n  File \"/Users/alexanderokenczyc/anaconda3/envs/EnvTensor/lib/python3.10/site-packages/keras/src/losses/loss.py\", line 43, in __call__\n\n  File \"/Users/alexanderokenczyc/anaconda3/envs/EnvTensor/lib/python3.10/site-packages/keras/src/losses/losses.py\", line 27, in call\n\n  File \"/Users/alexanderokenczyc/anaconda3/envs/EnvTensor/lib/python3.10/site-packages/keras/src/losses/losses.py\", line 1853, in sparse_categorical_crossentropy\n\n  File \"/Users/alexanderokenczyc/anaconda3/envs/EnvTensor/lib/python3.10/site-packages/keras/src/ops/nn.py\", line 1567, in sparse_categorical_crossentropy\n\n  File \"/Users/alexanderokenczyc/anaconda3/envs/EnvTensor/lib/python3.10/site-packages/keras/src/backend/tensorflow/nn.py\", line 645, in sparse_categorical_crossentropy\n\nReceived a label value of 3 which is outside the valid range of [0, 1).  Label values: 2 2 2 0 0 0 2 2 3 1 2 2\n\t [[{{node compile_loss/sparse_categorical_crossentropy/SparseSoftmaxCrossEntropyWithLogits/SparseSoftmaxCrossEntropyWithLogits}}]] [Op:__inference_one_step_on_iterator_2847]"
     ]
    }
   ],
   "source": [
    "history = model.fit(X_train, y_train, epochs=50, batch_size=32, validation_data=(X_test, y_test))"
   ],
   "metadata": {
    "collapsed": false,
    "ExecuteTime": {
     "end_time": "2024-07-05T07:18:17.090707Z",
     "start_time": "2024-07-05T07:18:10.150376Z"
    }
   },
   "id": "a09b3978ca30e37b",
   "execution_count": 117
  },
  {
   "cell_type": "code",
   "outputs": [],
   "source": [],
   "metadata": {
    "collapsed": false
   },
   "id": "da89e70e9d93fef8"
  }
 ],
 "metadata": {
  "kernelspec": {
   "display_name": "Python 3",
   "language": "python",
   "name": "python3"
  },
  "language_info": {
   "codemirror_mode": {
    "name": "ipython",
    "version": 2
   },
   "file_extension": ".py",
   "mimetype": "text/x-python",
   "name": "python",
   "nbconvert_exporter": "python",
   "pygments_lexer": "ipython2",
   "version": "2.7.6"
  }
 },
 "nbformat": 4,
 "nbformat_minor": 5
}
