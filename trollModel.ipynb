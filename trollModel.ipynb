{
 "cells": [
  {
   "cell_type": "code",
   "execution_count": 2,
   "id": "initial_id",
   "metadata": {
    "collapsed": true,
    "ExecuteTime": {
     "end_time": "2024-07-05T13:14:16.922395Z",
     "start_time": "2024-07-05T13:13:54.887794Z"
    }
   },
   "outputs": [
    {
     "name": "stderr",
     "output_type": "stream",
     "text": [
      "2024-07-05 09:14:05.889068: I tensorflow/core/platform/cpu_feature_guard.cc:210] This TensorFlow binary is optimized to use available CPU instructions in performance-critical operations.\n",
      "To enable the following instructions: AVX2 FMA, in other operations, rebuild TensorFlow with the appropriate compiler flags.\n"
     ]
    }
   ],
   "source": [
    "# Import libraries\n",
    "\n",
    "import pandas as pd\n",
    "import tensorflow as tf\n",
    "from sklearn.preprocessing import LabelEncoder, OneHotEncoder\n",
    "from sklearn.compose import ColumnTransformer\n",
    "from sklearn.model_selection import train_test_split\n",
    "from sklearn.preprocessing import StandardScaler\n",
    "from tensorflow.keras import Input\n",
    "from tensorflow.keras.models import Sequential\n",
    "from tensorflow.keras.layers import Dense, Dropout\n",
    "from tensorflow.keras.models import Model"
   ]
  },
  {
   "cell_type": "markdown",
   "source": [
    "Add and adjust 'Justin.csv' including pre-proccessing data like time"
   ],
   "metadata": {
    "collapsed": false
   },
   "id": "78c83b3fb6646233"
  },
  {
   "cell_type": "code",
   "outputs": [
    {
     "name": "stdout",
     "output_type": "stream",
     "text": [
      "    Location            DateTime\n",
      "0     Stever 1900-06-30 23:09:00\n",
      "1     Stever 1900-07-01 22:34:00\n",
      "2     Stever 1900-07-01 16:00:00\n",
      "3     Stever 1900-07-01 22:46:00\n",
      "4  Forbes St 1900-07-02 18:51:00\n"
     ]
    }
   ],
   "source": [
    "# Load the dataset without explicit date parsing\n",
    "file_path = 'justin.csv'\n",
    "df = pd.read_csv(file_path)\n",
    "\n",
    "# Preprocess Date & Time\n",
    "df['DateTime'] = pd.to_datetime(df['Date'] + ' ' + df['Time'], format='%m/%d %H:%M')\n",
    "df.drop(['Date', 'Time'], axis=1, inplace=True)\n",
    "\n",
    "# Verify Data\n",
    "print(df.head())\n"
   ],
   "metadata": {
    "collapsed": false,
    "ExecuteTime": {
     "end_time": "2024-07-05T13:14:29.507050Z",
     "start_time": "2024-07-05T13:14:29.064535Z"
    }
   },
   "id": "83fcbf1c4d9fd4c2",
   "execution_count": 3
  },
  {
   "cell_type": "markdown",
   "source": [
    "Setup Time and Date in pandas correctly"
   ],
   "metadata": {
    "collapsed": false
   },
   "id": "b36d5431efc0cef3"
  },
  {
   "cell_type": "code",
   "outputs": [
    {
     "name": "stdout",
     "output_type": "stream",
     "text": [
      "    Location            DateTime  Hour  DayOfWeek  Location_Code\n",
      "0     Stever 1900-06-30 23:09:00    23          5              2\n",
      "1     Stever 1900-07-01 22:34:00    22          6              2\n",
      "2     Stever 1900-07-01 16:00:00    16          6              2\n",
      "3     Stever 1900-07-01 22:46:00    22          6              2\n",
      "4  Forbes St 1900-07-02 18:51:00    18          0              1\n"
     ]
    }
   ],
   "source": [
    "# Extract features from datetime\n",
    "df['Hour'] = df['DateTime'].dt.hour\n",
    "df['DayOfWeek'] = df['DateTime'].dt.dayofweek\n",
    "\n",
    "# Encoding via OneHotEncoder\n",
    "label_encoder = LabelEncoder()\n",
    "df['Location_Code'] = label_encoder.fit_transform(df['Location'])\n",
    "\n",
    "# Prepare features (X) and target (y)\n",
    "X = df[['Hour', 'DayOfWeek']].values\n",
    "y = df['Location_Code'].values\n",
    "\n",
    "print(df.head())"
   ],
   "metadata": {
    "collapsed": false,
    "ExecuteTime": {
     "end_time": "2024-07-05T14:04:55.088853Z",
     "start_time": "2024-07-05T14:04:54.999492Z"
    }
   },
   "id": "879c481c5c3fd23d",
   "execution_count": 34
  },
  {
   "cell_type": "markdown",
   "source": [
    "Setup OneHotEncoder"
   ],
   "metadata": {
    "collapsed": false
   },
   "id": "9b00a41e84be6af2"
  },
  {
   "cell_type": "code",
   "outputs": [],
   "source": [
    "# One-hot encode categorical features (DayOfWeek)\n",
    "ct = ColumnTransformer(\n",
    "    [('one_hot_encoder', OneHotEncoder(categories='auto'), [1])],\n",
    "    remainder='passthrough'\n",
    ")\n",
    "X = ct.fit_transform(X)"
   ],
   "metadata": {
    "collapsed": false,
    "ExecuteTime": {
     "end_time": "2024-07-05T14:05:03.436927Z",
     "start_time": "2024-07-05T14:05:03.412924Z"
    }
   },
   "id": "89f74e341003b3fa",
   "execution_count": 35
  },
  {
   "cell_type": "markdown",
   "source": [
    "Splitting dataset into training and testing"
   ],
   "metadata": {
    "collapsed": false
   },
   "id": "563dba3df6c10910"
  },
  {
   "cell_type": "code",
   "outputs": [],
   "source": [
    "X_train, X_test, y_train, y_test = train_test_split(X, y, test_size=0.2, random_state=42)"
   ],
   "metadata": {
    "collapsed": false,
    "ExecuteTime": {
     "end_time": "2024-07-05T13:14:34.931126Z",
     "start_time": "2024-07-05T13:14:34.712243Z"
    }
   },
   "id": "f61e1b7e5800e434",
   "execution_count": 6
  },
  {
   "cell_type": "markdown",
   "source": [
    "Standarization via scaling"
   ],
   "metadata": {
    "collapsed": false
   },
   "id": "b58b8708a560b16f"
  },
  {
   "cell_type": "code",
   "outputs": [],
   "source": [
    "scaler = StandardScaler()\n",
    "X_train = scaler.fit_transform(X_train)\n",
    "X_test = scaler.transform(X_test)"
   ],
   "metadata": {
    "collapsed": false,
    "ExecuteTime": {
     "end_time": "2024-07-05T13:14:36.850343Z",
     "start_time": "2024-07-05T13:14:36.639716Z"
    }
   },
   "id": "a812a869f196bba8",
   "execution_count": 7
  },
  {
   "cell_type": "markdown",
   "source": [
    "Defining model"
   ],
   "metadata": {
    "collapsed": false
   },
   "id": "f69b03e80c9d29e5"
  },
  {
   "cell_type": "code",
   "outputs": [],
   "source": [
    "# Set input shape in friendly way \n",
    "# to be adjustable depending on # of vars\n",
    "input_shape = (6,) \n",
    "\n",
    "# Input layer\n",
    "inputs = Input(shape=input_shape)\n",
    "\n",
    "# Hidden layers\n",
    "x = Dense(32, activation='relu')(inputs)\n",
    "x = Dense(16, activation='relu')(x)\n",
    "\n",
    "# Output layer\n",
    "outputs = Dense(8, activation='relu')(x)# Example output layer \n",
    "outputs = Dense(3, activation='relu')(outputs)# for binary classification\n",
    "\n",
    "# Create the model\n",
    "model = Model(inputs=inputs, outputs=outputs)\n",
    "\n",
    "# Compile the model\n",
    "model.compile(optimizer='adam', loss=tf.keras.losses.SparseCategoricalCrossentropy(from_logits=True), metrics=['accuracy'])\n"
   ],
   "metadata": {
    "collapsed": false,
    "ExecuteTime": {
     "end_time": "2024-07-05T13:24:26.933128Z",
     "start_time": "2024-07-05T13:24:26.813681Z"
    }
   },
   "id": "492b9bfce4a06136",
   "execution_count": 30
  },
  {
   "cell_type": "markdown",
   "source": [
    "Model Summary - find how many params used"
   ],
   "metadata": {
    "collapsed": false
   },
   "id": "8a8124804282cc85"
  },
  {
   "cell_type": "code",
   "outputs": [
    {
     "data": {
      "text/plain": "\u001B[1mModel: \"functional_5\"\u001B[0m\n",
      "text/html": "<pre style=\"white-space:pre;overflow-x:auto;line-height:normal;font-family:Menlo,'DejaVu Sans Mono',consolas,'Courier New',monospace\"><span style=\"font-weight: bold\">Model: \"functional_5\"</span>\n</pre>\n"
     },
     "metadata": {},
     "output_type": "display_data"
    },
    {
     "data": {
      "text/plain": "┏━━━━━━━━━━━━━━━━━━━━━━━━━━━━━━━━━┳━━━━━━━━━━━━━━━━━━━━━━━━┳━━━━━━━━━━━━━━━┓\n┃\u001B[1m \u001B[0m\u001B[1mLayer (type)                   \u001B[0m\u001B[1m \u001B[0m┃\u001B[1m \u001B[0m\u001B[1mOutput Shape          \u001B[0m\u001B[1m \u001B[0m┃\u001B[1m \u001B[0m\u001B[1m      Param #\u001B[0m\u001B[1m \u001B[0m┃\n┡━━━━━━━━━━━━━━━━━━━━━━━━━━━━━━━━━╇━━━━━━━━━━━━━━━━━━━━━━━━╇━━━━━━━━━━━━━━━┩\n│ input_layer_5 (\u001B[38;5;33mInputLayer\u001B[0m)      │ (\u001B[38;5;45mNone\u001B[0m, \u001B[38;5;34m6\u001B[0m)              │             \u001B[38;5;34m0\u001B[0m │\n├─────────────────────────────────┼────────────────────────┼───────────────┤\n│ dense_19 (\u001B[38;5;33mDense\u001B[0m)                │ (\u001B[38;5;45mNone\u001B[0m, \u001B[38;5;34m32\u001B[0m)             │           \u001B[38;5;34m224\u001B[0m │\n├─────────────────────────────────┼────────────────────────┼───────────────┤\n│ dense_20 (\u001B[38;5;33mDense\u001B[0m)                │ (\u001B[38;5;45mNone\u001B[0m, \u001B[38;5;34m16\u001B[0m)             │           \u001B[38;5;34m528\u001B[0m │\n├─────────────────────────────────┼────────────────────────┼───────────────┤\n│ dense_21 (\u001B[38;5;33mDense\u001B[0m)                │ (\u001B[38;5;45mNone\u001B[0m, \u001B[38;5;34m8\u001B[0m)              │           \u001B[38;5;34m136\u001B[0m │\n├─────────────────────────────────┼────────────────────────┼───────────────┤\n│ dense_22 (\u001B[38;5;33mDense\u001B[0m)                │ (\u001B[38;5;45mNone\u001B[0m, \u001B[38;5;34m3\u001B[0m)              │            \u001B[38;5;34m27\u001B[0m │\n└─────────────────────────────────┴────────────────────────┴───────────────┘\n",
      "text/html": "<pre style=\"white-space:pre;overflow-x:auto;line-height:normal;font-family:Menlo,'DejaVu Sans Mono',consolas,'Courier New',monospace\">┏━━━━━━━━━━━━━━━━━━━━━━━━━━━━━━━━━┳━━━━━━━━━━━━━━━━━━━━━━━━┳━━━━━━━━━━━━━━━┓\n┃<span style=\"font-weight: bold\"> Layer (type)                    </span>┃<span style=\"font-weight: bold\"> Output Shape           </span>┃<span style=\"font-weight: bold\">       Param # </span>┃\n┡━━━━━━━━━━━━━━━━━━━━━━━━━━━━━━━━━╇━━━━━━━━━━━━━━━━━━━━━━━━╇━━━━━━━━━━━━━━━┩\n│ input_layer_5 (<span style=\"color: #0087ff; text-decoration-color: #0087ff\">InputLayer</span>)      │ (<span style=\"color: #00d7ff; text-decoration-color: #00d7ff\">None</span>, <span style=\"color: #00af00; text-decoration-color: #00af00\">6</span>)              │             <span style=\"color: #00af00; text-decoration-color: #00af00\">0</span> │\n├─────────────────────────────────┼────────────────────────┼───────────────┤\n│ dense_19 (<span style=\"color: #0087ff; text-decoration-color: #0087ff\">Dense</span>)                │ (<span style=\"color: #00d7ff; text-decoration-color: #00d7ff\">None</span>, <span style=\"color: #00af00; text-decoration-color: #00af00\">32</span>)             │           <span style=\"color: #00af00; text-decoration-color: #00af00\">224</span> │\n├─────────────────────────────────┼────────────────────────┼───────────────┤\n│ dense_20 (<span style=\"color: #0087ff; text-decoration-color: #0087ff\">Dense</span>)                │ (<span style=\"color: #00d7ff; text-decoration-color: #00d7ff\">None</span>, <span style=\"color: #00af00; text-decoration-color: #00af00\">16</span>)             │           <span style=\"color: #00af00; text-decoration-color: #00af00\">528</span> │\n├─────────────────────────────────┼────────────────────────┼───────────────┤\n│ dense_21 (<span style=\"color: #0087ff; text-decoration-color: #0087ff\">Dense</span>)                │ (<span style=\"color: #00d7ff; text-decoration-color: #00d7ff\">None</span>, <span style=\"color: #00af00; text-decoration-color: #00af00\">8</span>)              │           <span style=\"color: #00af00; text-decoration-color: #00af00\">136</span> │\n├─────────────────────────────────┼────────────────────────┼───────────────┤\n│ dense_22 (<span style=\"color: #0087ff; text-decoration-color: #0087ff\">Dense</span>)                │ (<span style=\"color: #00d7ff; text-decoration-color: #00d7ff\">None</span>, <span style=\"color: #00af00; text-decoration-color: #00af00\">3</span>)              │            <span style=\"color: #00af00; text-decoration-color: #00af00\">27</span> │\n└─────────────────────────────────┴────────────────────────┴───────────────┘\n</pre>\n"
     },
     "metadata": {},
     "output_type": "display_data"
    },
    {
     "data": {
      "text/plain": "\u001B[1m Total params: \u001B[0m\u001B[38;5;34m915\u001B[0m (3.57 KB)\n",
      "text/html": "<pre style=\"white-space:pre;overflow-x:auto;line-height:normal;font-family:Menlo,'DejaVu Sans Mono',consolas,'Courier New',monospace\"><span style=\"font-weight: bold\"> Total params: </span><span style=\"color: #00af00; text-decoration-color: #00af00\">915</span> (3.57 KB)\n</pre>\n"
     },
     "metadata": {},
     "output_type": "display_data"
    },
    {
     "data": {
      "text/plain": "\u001B[1m Trainable params: \u001B[0m\u001B[38;5;34m915\u001B[0m (3.57 KB)\n",
      "text/html": "<pre style=\"white-space:pre;overflow-x:auto;line-height:normal;font-family:Menlo,'DejaVu Sans Mono',consolas,'Courier New',monospace\"><span style=\"font-weight: bold\"> Trainable params: </span><span style=\"color: #00af00; text-decoration-color: #00af00\">915</span> (3.57 KB)\n</pre>\n"
     },
     "metadata": {},
     "output_type": "display_data"
    },
    {
     "data": {
      "text/plain": "\u001B[1m Non-trainable params: \u001B[0m\u001B[38;5;34m0\u001B[0m (0.00 B)\n",
      "text/html": "<pre style=\"white-space:pre;overflow-x:auto;line-height:normal;font-family:Menlo,'DejaVu Sans Mono',consolas,'Courier New',monospace\"><span style=\"font-weight: bold\"> Non-trainable params: </span><span style=\"color: #00af00; text-decoration-color: #00af00\">0</span> (0.00 B)\n</pre>\n"
     },
     "metadata": {},
     "output_type": "display_data"
    }
   ],
   "source": [
    "model.summary()"
   ],
   "metadata": {
    "collapsed": false,
    "ExecuteTime": {
     "end_time": "2024-07-05T13:24:29.321490Z",
     "start_time": "2024-07-05T13:24:29.007372Z"
    }
   },
   "id": "1914cdbbda6841bb",
   "execution_count": 31
  },
  {
   "cell_type": "code",
   "outputs": [
    {
     "name": "stdout",
     "output_type": "stream",
     "text": [
      "Epoch 1/50\n",
      "\u001B[1m1/1\u001B[0m \u001B[32m━━━━━━━━━━━━━━━━━━━━\u001B[0m\u001B[37m\u001B[0m \u001B[1m1s\u001B[0m 999ms/step - accuracy: 0.5833 - loss: 0.6734 - val_accuracy: 1.0000 - val_loss: 0.4646\n",
      "Epoch 2/50\n",
      "\u001B[1m1/1\u001B[0m \u001B[32m━━━━━━━━━━━━━━━━━━━━\u001B[0m\u001B[37m\u001B[0m \u001B[1m0s\u001B[0m 338ms/step - accuracy: 0.5833 - loss: 0.6703 - val_accuracy: 1.0000 - val_loss: 0.4628\n",
      "Epoch 3/50\n",
      "\u001B[1m1/1\u001B[0m \u001B[32m━━━━━━━━━━━━━━━━━━━━\u001B[0m\u001B[37m\u001B[0m \u001B[1m1s\u001B[0m 652ms/step - accuracy: 0.5833 - loss: 0.6671 - val_accuracy: 1.0000 - val_loss: 0.4610\n",
      "Epoch 4/50\n",
      "\u001B[1m1/1\u001B[0m \u001B[32m━━━━━━━━━━━━━━━━━━━━\u001B[0m\u001B[37m\u001B[0m \u001B[1m0s\u001B[0m 232ms/step - accuracy: 0.5833 - loss: 0.6643 - val_accuracy: 1.0000 - val_loss: 0.4595\n",
      "Epoch 5/50\n",
      "\u001B[1m1/1\u001B[0m \u001B[32m━━━━━━━━━━━━━━━━━━━━\u001B[0m\u001B[37m\u001B[0m \u001B[1m0s\u001B[0m 284ms/step - accuracy: 0.5833 - loss: 0.6613 - val_accuracy: 1.0000 - val_loss: 0.4583\n",
      "Epoch 6/50\n",
      "\u001B[1m1/1\u001B[0m \u001B[32m━━━━━━━━━━━━━━━━━━━━\u001B[0m\u001B[37m\u001B[0m \u001B[1m1s\u001B[0m 593ms/step - accuracy: 0.5833 - loss: 0.6582 - val_accuracy: 1.0000 - val_loss: 0.4567\n",
      "Epoch 7/50\n",
      "\u001B[1m1/1\u001B[0m \u001B[32m━━━━━━━━━━━━━━━━━━━━\u001B[0m\u001B[37m\u001B[0m \u001B[1m0s\u001B[0m 377ms/step - accuracy: 0.5833 - loss: 0.6551 - val_accuracy: 1.0000 - val_loss: 0.4547\n",
      "Epoch 8/50\n",
      "\u001B[1m1/1\u001B[0m \u001B[32m━━━━━━━━━━━━━━━━━━━━\u001B[0m\u001B[37m\u001B[0m \u001B[1m0s\u001B[0m 409ms/step - accuracy: 0.5833 - loss: 0.6522 - val_accuracy: 1.0000 - val_loss: 0.4525\n",
      "Epoch 9/50\n",
      "\u001B[1m1/1\u001B[0m \u001B[32m━━━━━━━━━━━━━━━━━━━━\u001B[0m\u001B[37m\u001B[0m \u001B[1m1s\u001B[0m 522ms/step - accuracy: 0.5833 - loss: 0.6494 - val_accuracy: 1.0000 - val_loss: 0.4506\n",
      "Epoch 10/50\n",
      "\u001B[1m1/1\u001B[0m \u001B[32m━━━━━━━━━━━━━━━━━━━━\u001B[0m\u001B[37m\u001B[0m \u001B[1m0s\u001B[0m 328ms/step - accuracy: 0.5833 - loss: 0.6464 - val_accuracy: 1.0000 - val_loss: 0.4491\n",
      "Epoch 11/50\n",
      "\u001B[1m1/1\u001B[0m \u001B[32m━━━━━━━━━━━━━━━━━━━━\u001B[0m\u001B[37m\u001B[0m \u001B[1m0s\u001B[0m 292ms/step - accuracy: 0.5833 - loss: 0.6435 - val_accuracy: 1.0000 - val_loss: 0.4473\n",
      "Epoch 12/50\n",
      "\u001B[1m1/1\u001B[0m \u001B[32m━━━━━━━━━━━━━━━━━━━━\u001B[0m\u001B[37m\u001B[0m \u001B[1m1s\u001B[0m 510ms/step - accuracy: 0.5833 - loss: 0.6406 - val_accuracy: 1.0000 - val_loss: 0.4451\n",
      "Epoch 13/50\n",
      "\u001B[1m1/1\u001B[0m \u001B[32m━━━━━━━━━━━━━━━━━━━━\u001B[0m\u001B[37m\u001B[0m \u001B[1m0s\u001B[0m 292ms/step - accuracy: 0.5833 - loss: 0.6376 - val_accuracy: 1.0000 - val_loss: 0.4427\n",
      "Epoch 14/50\n",
      "\u001B[1m1/1\u001B[0m \u001B[32m━━━━━━━━━━━━━━━━━━━━\u001B[0m\u001B[37m\u001B[0m \u001B[1m0s\u001B[0m 278ms/step - accuracy: 0.5833 - loss: 0.6347 - val_accuracy: 1.0000 - val_loss: 0.4407\n",
      "Epoch 15/50\n",
      "\u001B[1m1/1\u001B[0m \u001B[32m━━━━━━━━━━━━━━━━━━━━\u001B[0m\u001B[37m\u001B[0m \u001B[1m1s\u001B[0m 623ms/step - accuracy: 0.5833 - loss: 0.6317 - val_accuracy: 1.0000 - val_loss: 0.4398\n",
      "Epoch 16/50\n",
      "\u001B[1m1/1\u001B[0m \u001B[32m━━━━━━━━━━━━━━━━━━━━\u001B[0m\u001B[37m\u001B[0m \u001B[1m0s\u001B[0m 251ms/step - accuracy: 0.5833 - loss: 0.6286 - val_accuracy: 1.0000 - val_loss: 0.4382\n",
      "Epoch 17/50\n",
      "\u001B[1m1/1\u001B[0m \u001B[32m━━━━━━━━━━━━━━━━━━━━\u001B[0m\u001B[37m\u001B[0m \u001B[1m0s\u001B[0m 323ms/step - accuracy: 0.5833 - loss: 0.6256 - val_accuracy: 1.0000 - val_loss: 0.4359\n",
      "Epoch 18/50\n",
      "\u001B[1m1/1\u001B[0m \u001B[32m━━━━━━━━━━━━━━━━━━━━\u001B[0m\u001B[37m\u001B[0m \u001B[1m1s\u001B[0m 637ms/step - accuracy: 0.5833 - loss: 0.6223 - val_accuracy: 1.0000 - val_loss: 0.4332\n",
      "Epoch 19/50\n",
      "\u001B[1m1/1\u001B[0m \u001B[32m━━━━━━━━━━━━━━━━━━━━\u001B[0m\u001B[37m\u001B[0m \u001B[1m0s\u001B[0m 275ms/step - accuracy: 0.5833 - loss: 0.6191 - val_accuracy: 1.0000 - val_loss: 0.4294\n",
      "Epoch 20/50\n",
      "\u001B[1m1/1\u001B[0m \u001B[32m━━━━━━━━━━━━━━━━━━━━\u001B[0m\u001B[37m\u001B[0m \u001B[1m0s\u001B[0m 303ms/step - accuracy: 0.5833 - loss: 0.6158 - val_accuracy: 1.0000 - val_loss: 0.4253\n",
      "Epoch 21/50\n",
      "\u001B[1m1/1\u001B[0m \u001B[32m━━━━━━━━━━━━━━━━━━━━\u001B[0m\u001B[37m\u001B[0m \u001B[1m0s\u001B[0m 197ms/step - accuracy: 0.5833 - loss: 0.6126 - val_accuracy: 1.0000 - val_loss: 0.4214\n",
      "Epoch 22/50\n",
      "\u001B[1m1/1\u001B[0m \u001B[32m━━━━━━━━━━━━━━━━━━━━\u001B[0m\u001B[37m\u001B[0m \u001B[1m0s\u001B[0m 195ms/step - accuracy: 0.5833 - loss: 0.6094 - val_accuracy: 1.0000 - val_loss: 0.4175\n",
      "Epoch 23/50\n",
      "\u001B[1m1/1\u001B[0m \u001B[32m━━━━━━━━━━━━━━━━━━━━\u001B[0m\u001B[37m\u001B[0m \u001B[1m0s\u001B[0m 224ms/step - accuracy: 0.5833 - loss: 0.6059 - val_accuracy: 1.0000 - val_loss: 0.4136\n",
      "Epoch 24/50\n",
      "\u001B[1m1/1\u001B[0m \u001B[32m━━━━━━━━━━━━━━━━━━━━\u001B[0m\u001B[37m\u001B[0m \u001B[1m0s\u001B[0m 247ms/step - accuracy: 0.5833 - loss: 0.6023 - val_accuracy: 1.0000 - val_loss: 0.4107\n",
      "Epoch 25/50\n",
      "\u001B[1m1/1\u001B[0m \u001B[32m━━━━━━━━━━━━━━━━━━━━\u001B[0m\u001B[37m\u001B[0m \u001B[1m0s\u001B[0m 223ms/step - accuracy: 0.5833 - loss: 0.5988 - val_accuracy: 1.0000 - val_loss: 0.4078\n",
      "Epoch 26/50\n",
      "\u001B[1m1/1\u001B[0m \u001B[32m━━━━━━━━━━━━━━━━━━━━\u001B[0m\u001B[37m\u001B[0m \u001B[1m0s\u001B[0m 261ms/step - accuracy: 0.5833 - loss: 0.5953 - val_accuracy: 1.0000 - val_loss: 0.4041\n",
      "Epoch 27/50\n",
      "\u001B[1m1/1\u001B[0m \u001B[32m━━━━━━━━━━━━━━━━━━━━\u001B[0m\u001B[37m\u001B[0m \u001B[1m0s\u001B[0m 246ms/step - accuracy: 0.5833 - loss: 0.5920 - val_accuracy: 1.0000 - val_loss: 0.3999\n",
      "Epoch 28/50\n",
      "\u001B[1m1/1\u001B[0m \u001B[32m━━━━━━━━━━━━━━━━━━━━\u001B[0m\u001B[37m\u001B[0m \u001B[1m0s\u001B[0m 225ms/step - accuracy: 0.5833 - loss: 0.5890 - val_accuracy: 1.0000 - val_loss: 0.3963\n",
      "Epoch 29/50\n",
      "\u001B[1m1/1\u001B[0m \u001B[32m━━━━━━━━━━━━━━━━━━━━\u001B[0m\u001B[37m\u001B[0m \u001B[1m0s\u001B[0m 233ms/step - accuracy: 0.5833 - loss: 0.5860 - val_accuracy: 1.0000 - val_loss: 0.3937\n",
      "Epoch 30/50\n",
      "\u001B[1m1/1\u001B[0m \u001B[32m━━━━━━━━━━━━━━━━━━━━\u001B[0m\u001B[37m\u001B[0m \u001B[1m0s\u001B[0m 207ms/step - accuracy: 0.5833 - loss: 0.5830 - val_accuracy: 1.0000 - val_loss: 0.3907\n",
      "Epoch 31/50\n",
      "\u001B[1m1/1\u001B[0m \u001B[32m━━━━━━━━━━━━━━━━━━━━\u001B[0m\u001B[37m\u001B[0m \u001B[1m0s\u001B[0m 283ms/step - accuracy: 0.5833 - loss: 0.5800 - val_accuracy: 1.0000 - val_loss: 0.3878\n",
      "Epoch 32/50\n",
      "\u001B[1m1/1\u001B[0m \u001B[32m━━━━━━━━━━━━━━━━━━━━\u001B[0m\u001B[37m\u001B[0m \u001B[1m0s\u001B[0m 282ms/step - accuracy: 0.5833 - loss: 0.5770 - val_accuracy: 1.0000 - val_loss: 0.3850\n",
      "Epoch 33/50\n",
      "\u001B[1m1/1\u001B[0m \u001B[32m━━━━━━━━━━━━━━━━━━━━\u001B[0m\u001B[37m\u001B[0m \u001B[1m0s\u001B[0m 235ms/step - accuracy: 0.5833 - loss: 0.5740 - val_accuracy: 1.0000 - val_loss: 0.3820\n",
      "Epoch 34/50\n",
      "\u001B[1m1/1\u001B[0m \u001B[32m━━━━━━━━━━━━━━━━━━━━\u001B[0m\u001B[37m\u001B[0m \u001B[1m0s\u001B[0m 202ms/step - accuracy: 0.7500 - loss: 0.5711 - val_accuracy: 1.0000 - val_loss: 0.3802\n",
      "Epoch 35/50\n",
      "\u001B[1m1/1\u001B[0m \u001B[32m━━━━━━━━━━━━━━━━━━━━\u001B[0m\u001B[37m\u001B[0m \u001B[1m0s\u001B[0m 231ms/step - accuracy: 0.7500 - loss: 0.5683 - val_accuracy: 1.0000 - val_loss: 0.3786\n",
      "Epoch 36/50\n",
      "\u001B[1m1/1\u001B[0m \u001B[32m━━━━━━━━━━━━━━━━━━━━\u001B[0m\u001B[37m\u001B[0m \u001B[1m0s\u001B[0m 223ms/step - accuracy: 0.7500 - loss: 0.5654 - val_accuracy: 1.0000 - val_loss: 0.3772\n",
      "Epoch 37/50\n",
      "\u001B[1m1/1\u001B[0m \u001B[32m━━━━━━━━━━━━━━━━━━━━\u001B[0m\u001B[37m\u001B[0m \u001B[1m0s\u001B[0m 216ms/step - accuracy: 0.7500 - loss: 0.5625 - val_accuracy: 1.0000 - val_loss: 0.3754\n",
      "Epoch 38/50\n",
      "\u001B[1m1/1\u001B[0m \u001B[32m━━━━━━━━━━━━━━━━━━━━\u001B[0m\u001B[37m\u001B[0m \u001B[1m0s\u001B[0m 236ms/step - accuracy: 0.7500 - loss: 0.5599 - val_accuracy: 1.0000 - val_loss: 0.3731\n",
      "Epoch 39/50\n",
      "\u001B[1m1/1\u001B[0m \u001B[32m━━━━━━━━━━━━━━━━━━━━\u001B[0m\u001B[37m\u001B[0m \u001B[1m0s\u001B[0m 350ms/step - accuracy: 0.7500 - loss: 0.5573 - val_accuracy: 1.0000 - val_loss: 0.3705\n",
      "Epoch 40/50\n",
      "\u001B[1m1/1\u001B[0m \u001B[32m━━━━━━━━━━━━━━━━━━━━\u001B[0m\u001B[37m\u001B[0m \u001B[1m0s\u001B[0m 201ms/step - accuracy: 0.7500 - loss: 0.5547 - val_accuracy: 1.0000 - val_loss: 0.3687\n",
      "Epoch 41/50\n",
      "\u001B[1m1/1\u001B[0m \u001B[32m━━━━━━━━━━━━━━━━━━━━\u001B[0m\u001B[37m\u001B[0m \u001B[1m0s\u001B[0m 310ms/step - accuracy: 0.7500 - loss: 0.5519 - val_accuracy: 1.0000 - val_loss: 0.3676\n",
      "Epoch 42/50\n",
      "\u001B[1m1/1\u001B[0m \u001B[32m━━━━━━━━━━━━━━━━━━━━\u001B[0m\u001B[37m\u001B[0m \u001B[1m0s\u001B[0m 310ms/step - accuracy: 0.7500 - loss: 0.5492 - val_accuracy: 1.0000 - val_loss: 0.3667\n",
      "Epoch 43/50\n",
      "\u001B[1m1/1\u001B[0m \u001B[32m━━━━━━━━━━━━━━━━━━━━\u001B[0m\u001B[37m\u001B[0m \u001B[1m0s\u001B[0m 240ms/step - accuracy: 0.7500 - loss: 0.5465 - val_accuracy: 1.0000 - val_loss: 0.3661\n",
      "Epoch 44/50\n",
      "\u001B[1m1/1\u001B[0m \u001B[32m━━━━━━━━━━━━━━━━━━━━\u001B[0m\u001B[37m\u001B[0m \u001B[1m0s\u001B[0m 231ms/step - accuracy: 0.7500 - loss: 0.5436 - val_accuracy: 1.0000 - val_loss: 0.3650\n",
      "Epoch 45/50\n",
      "\u001B[1m1/1\u001B[0m \u001B[32m━━━━━━━━━━━━━━━━━━━━\u001B[0m\u001B[37m\u001B[0m \u001B[1m0s\u001B[0m 264ms/step - accuracy: 0.7500 - loss: 0.5407 - val_accuracy: 1.0000 - val_loss: 0.3642\n",
      "Epoch 46/50\n",
      "\u001B[1m1/1\u001B[0m \u001B[32m━━━━━━━━━━━━━━━━━━━━\u001B[0m\u001B[37m\u001B[0m \u001B[1m0s\u001B[0m 228ms/step - accuracy: 0.7500 - loss: 0.5377 - val_accuracy: 1.0000 - val_loss: 0.3638\n",
      "Epoch 47/50\n",
      "\u001B[1m1/1\u001B[0m \u001B[32m━━━━━━━━━━━━━━━━━━━━\u001B[0m\u001B[37m\u001B[0m \u001B[1m0s\u001B[0m 348ms/step - accuracy: 0.7500 - loss: 0.5346 - val_accuracy: 1.0000 - val_loss: 0.3637\n",
      "Epoch 48/50\n",
      "\u001B[1m1/1\u001B[0m \u001B[32m━━━━━━━━━━━━━━━━━━━━\u001B[0m\u001B[37m\u001B[0m \u001B[1m1s\u001B[0m 602ms/step - accuracy: 0.7500 - loss: 0.5317 - val_accuracy: 1.0000 - val_loss: 0.3629\n",
      "Epoch 49/50\n",
      "\u001B[1m1/1\u001B[0m \u001B[32m━━━━━━━━━━━━━━━━━━━━\u001B[0m\u001B[37m\u001B[0m \u001B[1m1s\u001B[0m 529ms/step - accuracy: 0.8333 - loss: 0.5292 - val_accuracy: 1.0000 - val_loss: 0.3615\n",
      "Epoch 50/50\n",
      "\u001B[1m1/1\u001B[0m \u001B[32m━━━━━━━━━━━━━━━━━━━━\u001B[0m\u001B[37m\u001B[0m \u001B[1m1s\u001B[0m 565ms/step - accuracy: 0.8333 - loss: 0.5266 - val_accuracy: 1.0000 - val_loss: 0.3595\n"
     ]
    }
   ],
   "source": [
    "history = model.fit(X_train, y_train, epochs=50, validation_data=(X_test, y_test), verbose=1)"
   ],
   "metadata": {
    "collapsed": false,
    "ExecuteTime": {
     "end_time": "2024-07-05T13:25:16.371843Z",
     "start_time": "2024-07-05T13:24:57.950102Z"
    }
   },
   "id": "a09b3978ca30e37b",
   "execution_count": 33
  },
  {
   "cell_type": "markdown",
   "source": [
    "Accuracy of 83.33% currently, simply need more data in order to make it better but for now this isn't bad, it also may be overfitting so keep that in mind"
   ],
   "metadata": {
    "collapsed": false
   },
   "id": "fb823ec798026ecb"
  }
 ],
 "metadata": {
  "kernelspec": {
   "display_name": "Python 3",
   "language": "python",
   "name": "python3"
  },
  "language_info": {
   "codemirror_mode": {
    "name": "ipython",
    "version": 2
   },
   "file_extension": ".py",
   "mimetype": "text/x-python",
   "name": "python",
   "nbconvert_exporter": "python",
   "pygments_lexer": "ipython2",
   "version": "2.7.6"
  }
 },
 "nbformat": 4,
 "nbformat_minor": 5
}
