{
 "cells": [
  {
   "cell_type": "code",
   "execution_count": 85,
   "id": "initial_id",
   "metadata": {
    "collapsed": true,
    "ExecuteTime": {
     "end_time": "2024-07-06T04:40:29.163742Z",
     "start_time": "2024-07-06T04:40:29.089125Z"
    }
   },
   "outputs": [],
   "source": [
    "# Import libraries\n",
    "import pandas as pd\n",
    "import tensorflow as tf\n",
    "from sklearn.preprocessing import LabelEncoder, OneHotEncoder\n",
    "from sklearn.compose import ColumnTransformer\n",
    "from sklearn.model_selection import train_test_split\n",
    "from sklearn.preprocessing import StandardScaler\n",
    "from tensorflow.keras import Input\n",
    "from tensorflow.keras.layers import Dense, Dropout\n",
    "from tensorflow.keras.models import Model"
   ]
  },
  {
   "cell_type": "markdown",
   "source": [
    "Add and adjust 'Justin.csv' including pre-proccessing data like time"
   ],
   "metadata": {
    "collapsed": false
   },
   "id": "78c83b3fb6646233"
  },
  {
   "cell_type": "code",
   "outputs": [
    {
     "name": "stdout",
     "output_type": "stream",
     "text": [
      "  Location            DateTime\n",
      "0   Stever 1900-06-30 23:09:00\n",
      "1   Stever 1900-07-01 22:34:00\n",
      "2   Stever 1900-07-01 16:00:00\n",
      "3   Stever 1900-07-01 22:46:00\n",
      "4     Cafe 1900-07-02 12:25:00\n"
     ]
    }
   ],
   "source": [
    "# Load the dataset without explicit date parsing\n",
    "file_path = 'justin.csv'\n",
    "df = pd.read_csv(file_path)\n",
    "# Preprocess Date & Time\n",
    "df['DateTime'] = pd.to_datetime(df['Date'] + ' ' + df['Time'], format='%m/%d %H:%M')\n",
    "df.drop(['Date', 'Time'], axis=1, inplace=True)\n",
    "\n",
    "# Verify Data\n",
    "print(df.head())\n"
   ],
   "metadata": {
    "collapsed": false,
    "ExecuteTime": {
     "end_time": "2024-07-06T04:40:30.840605Z",
     "start_time": "2024-07-06T04:40:30.678372Z"
    }
   },
   "id": "83fcbf1c4d9fd4c2",
   "execution_count": 86
  },
  {
   "cell_type": "markdown",
   "source": [
    "Setup Time and Date in pandas correctly"
   ],
   "metadata": {
    "collapsed": false
   },
   "id": "b36d5431efc0cef3"
  },
  {
   "cell_type": "code",
   "outputs": [
    {
     "name": "stdout",
     "output_type": "stream",
     "text": [
      "  Location            DateTime  Hour  DayOfWeek  Location_Code\n",
      "0   Stever 1900-06-30 23:09:00    23          5              2\n",
      "1   Stever 1900-07-01 22:34:00    22          6              2\n",
      "2   Stever 1900-07-01 16:00:00    16          6              2\n",
      "3   Stever 1900-07-01 22:46:00    22          6              2\n",
      "4     Cafe 1900-07-02 12:25:00    12          0              0\n"
     ]
    }
   ],
   "source": [
    "# Extract features from datetime\n",
    "df['Hour'] = df['DateTime'].dt.hour\n",
    "df['DayOfWeek'] = df['DateTime'].dt.dayofweek\n",
    "\n",
    "# Encoding via OneHotEncoder\n",
    "label_encoder = LabelEncoder()\n",
    "df['Location_Code'] = label_encoder.fit_transform(df['Location'])\n",
    "\n",
    "# Prepare features (X) and target (y)\n",
    "X = df[['Hour', 'DayOfWeek']].values\n",
    "y = df['Location_Code'].values\n",
    "\n",
    "print(df.head())"
   ],
   "metadata": {
    "collapsed": false,
    "ExecuteTime": {
     "end_time": "2024-07-06T04:40:32.545154Z",
     "start_time": "2024-07-06T04:40:32.426507Z"
    }
   },
   "id": "879c481c5c3fd23d",
   "execution_count": 87
  },
  {
   "cell_type": "markdown",
   "source": [
    "Setup OneHotEncoder"
   ],
   "metadata": {
    "collapsed": false
   },
   "id": "9b00a41e84be6af2"
  },
  {
   "cell_type": "code",
   "outputs": [],
   "source": [
    "# One-hot encode categorical features (DayOfWeek)\n",
    "ct = ColumnTransformer(\n",
    "    [('one_hot_encoder', OneHotEncoder(categories='auto'), [1])],\n",
    "    remainder='passthrough'\n",
    ")\n",
    "X = ct.fit_transform(X)"
   ],
   "metadata": {
    "collapsed": false,
    "ExecuteTime": {
     "end_time": "2024-07-06T04:40:34.311308Z",
     "start_time": "2024-07-06T04:40:34.259885Z"
    }
   },
   "id": "89f74e341003b3fa",
   "execution_count": 88
  },
  {
   "cell_type": "markdown",
   "source": [
    "Splitting dataset into training and testing"
   ],
   "metadata": {
    "collapsed": false
   },
   "id": "563dba3df6c10910"
  },
  {
   "cell_type": "code",
   "outputs": [],
   "source": [
    "X_train, X_test, y_train, y_test = train_test_split(X, y, test_size=0.2, random_state=42)"
   ],
   "metadata": {
    "collapsed": false,
    "ExecuteTime": {
     "end_time": "2024-07-06T04:40:37.775844Z",
     "start_time": "2024-07-06T04:40:37.721591Z"
    }
   },
   "id": "f61e1b7e5800e434",
   "execution_count": 89
  },
  {
   "cell_type": "markdown",
   "source": [
    "Standarization via scaling"
   ],
   "metadata": {
    "collapsed": false
   },
   "id": "b58b8708a560b16f"
  },
  {
   "cell_type": "code",
   "outputs": [],
   "source": [
    "scaler = StandardScaler()\n",
    "sc = StandardScaler(with_mean=False)\n",
    "X_train = sc.fit_transform(X_train)\n",
    "X_test = sc.transform(X_test)"
   ],
   "metadata": {
    "collapsed": false,
    "ExecuteTime": {
     "end_time": "2024-07-06T04:40:39.202831Z",
     "start_time": "2024-07-06T04:40:39.079006Z"
    }
   },
   "id": "a812a869f196bba8",
   "execution_count": 90
  },
  {
   "cell_type": "markdown",
   "source": [
    "Defining model"
   ],
   "metadata": {
    "collapsed": false
   },
   "id": "f69b03e80c9d29e5"
  },
  {
   "cell_type": "code",
   "outputs": [],
   "source": [
    "# Set input shape in friendly way \n",
    "# to be adjustable depending on # of vars\n",
    "input_shape = (7,) \n",
    "\n",
    "# Input layer\n",
    "inputs = Input(shape=input_shape)\n",
    "\n",
    "# Hidden layers\n",
    "x = Dense(32, activation='relu')(inputs)\n",
    "x = Dense(16, activation='relu')(x)\n",
    "\n",
    "# Output layer\n",
    "outputs = Dense(4, activation='relu')(x)# Example output layer \n",
    "outputs = Dense(3, activation='relu')(x)# for binary classification\n",
    "\n",
    "# Create the model\n",
    "model = Model(inputs=inputs, outputs=outputs)\n",
    "\n",
    "# Compile the model\n",
    "model.compile(optimizer='adam', loss=tf.keras.losses.SparseCategoricalCrossentropy(from_logits=True), metrics=['accuracy'])\n"
   ],
   "metadata": {
    "collapsed": false,
    "ExecuteTime": {
     "end_time": "2024-07-06T04:44:42.261804Z",
     "start_time": "2024-07-06T04:44:42.127847Z"
    }
   },
   "id": "492b9bfce4a06136",
   "execution_count": 99
  },
  {
   "cell_type": "markdown",
   "source": [
    "Model Summary - find how many params used"
   ],
   "metadata": {
    "collapsed": false
   },
   "id": "8a8124804282cc85"
  },
  {
   "cell_type": "code",
   "outputs": [
    {
     "data": {
      "text/plain": "\u001B[1mModel: \"functional_20\"\u001B[0m\n",
      "text/html": "<pre style=\"white-space:pre;overflow-x:auto;line-height:normal;font-family:Menlo,'DejaVu Sans Mono',consolas,'Courier New',monospace\"><span style=\"font-weight: bold\">Model: \"functional_20\"</span>\n</pre>\n"
     },
     "metadata": {},
     "output_type": "display_data"
    },
    {
     "data": {
      "text/plain": "┏━━━━━━━━━━━━━━━━━━━━━━━━━━━━━━━━━┳━━━━━━━━━━━━━━━━━━━━━━━━┳━━━━━━━━━━━━━━━┓\n┃\u001B[1m \u001B[0m\u001B[1mLayer (type)                   \u001B[0m\u001B[1m \u001B[0m┃\u001B[1m \u001B[0m\u001B[1mOutput Shape          \u001B[0m\u001B[1m \u001B[0m┃\u001B[1m \u001B[0m\u001B[1m      Param #\u001B[0m\u001B[1m \u001B[0m┃\n┡━━━━━━━━━━━━━━━━━━━━━━━━━━━━━━━━━╇━━━━━━━━━━━━━━━━━━━━━━━━╇━━━━━━━━━━━━━━━┩\n│ input_layer_20 (\u001B[38;5;33mInputLayer\u001B[0m)     │ (\u001B[38;5;45mNone\u001B[0m, \u001B[38;5;34m7\u001B[0m)              │             \u001B[38;5;34m0\u001B[0m │\n├─────────────────────────────────┼────────────────────────┼───────────────┤\n│ dense_84 (\u001B[38;5;33mDense\u001B[0m)                │ (\u001B[38;5;45mNone\u001B[0m, \u001B[38;5;34m32\u001B[0m)             │           \u001B[38;5;34m256\u001B[0m │\n├─────────────────────────────────┼────────────────────────┼───────────────┤\n│ dense_85 (\u001B[38;5;33mDense\u001B[0m)                │ (\u001B[38;5;45mNone\u001B[0m, \u001B[38;5;34m16\u001B[0m)             │           \u001B[38;5;34m528\u001B[0m │\n├─────────────────────────────────┼────────────────────────┼───────────────┤\n│ dense_87 (\u001B[38;5;33mDense\u001B[0m)                │ (\u001B[38;5;45mNone\u001B[0m, \u001B[38;5;34m3\u001B[0m)              │            \u001B[38;5;34m51\u001B[0m │\n└─────────────────────────────────┴────────────────────────┴───────────────┘\n",
      "text/html": "<pre style=\"white-space:pre;overflow-x:auto;line-height:normal;font-family:Menlo,'DejaVu Sans Mono',consolas,'Courier New',monospace\">┏━━━━━━━━━━━━━━━━━━━━━━━━━━━━━━━━━┳━━━━━━━━━━━━━━━━━━━━━━━━┳━━━━━━━━━━━━━━━┓\n┃<span style=\"font-weight: bold\"> Layer (type)                    </span>┃<span style=\"font-weight: bold\"> Output Shape           </span>┃<span style=\"font-weight: bold\">       Param # </span>┃\n┡━━━━━━━━━━━━━━━━━━━━━━━━━━━━━━━━━╇━━━━━━━━━━━━━━━━━━━━━━━━╇━━━━━━━━━━━━━━━┩\n│ input_layer_20 (<span style=\"color: #0087ff; text-decoration-color: #0087ff\">InputLayer</span>)     │ (<span style=\"color: #00d7ff; text-decoration-color: #00d7ff\">None</span>, <span style=\"color: #00af00; text-decoration-color: #00af00\">7</span>)              │             <span style=\"color: #00af00; text-decoration-color: #00af00\">0</span> │\n├─────────────────────────────────┼────────────────────────┼───────────────┤\n│ dense_84 (<span style=\"color: #0087ff; text-decoration-color: #0087ff\">Dense</span>)                │ (<span style=\"color: #00d7ff; text-decoration-color: #00d7ff\">None</span>, <span style=\"color: #00af00; text-decoration-color: #00af00\">32</span>)             │           <span style=\"color: #00af00; text-decoration-color: #00af00\">256</span> │\n├─────────────────────────────────┼────────────────────────┼───────────────┤\n│ dense_85 (<span style=\"color: #0087ff; text-decoration-color: #0087ff\">Dense</span>)                │ (<span style=\"color: #00d7ff; text-decoration-color: #00d7ff\">None</span>, <span style=\"color: #00af00; text-decoration-color: #00af00\">16</span>)             │           <span style=\"color: #00af00; text-decoration-color: #00af00\">528</span> │\n├─────────────────────────────────┼────────────────────────┼───────────────┤\n│ dense_87 (<span style=\"color: #0087ff; text-decoration-color: #0087ff\">Dense</span>)                │ (<span style=\"color: #00d7ff; text-decoration-color: #00d7ff\">None</span>, <span style=\"color: #00af00; text-decoration-color: #00af00\">3</span>)              │            <span style=\"color: #00af00; text-decoration-color: #00af00\">51</span> │\n└─────────────────────────────────┴────────────────────────┴───────────────┘\n</pre>\n"
     },
     "metadata": {},
     "output_type": "display_data"
    },
    {
     "data": {
      "text/plain": "\u001B[1m Total params: \u001B[0m\u001B[38;5;34m835\u001B[0m (3.26 KB)\n",
      "text/html": "<pre style=\"white-space:pre;overflow-x:auto;line-height:normal;font-family:Menlo,'DejaVu Sans Mono',consolas,'Courier New',monospace\"><span style=\"font-weight: bold\"> Total params: </span><span style=\"color: #00af00; text-decoration-color: #00af00\">835</span> (3.26 KB)\n</pre>\n"
     },
     "metadata": {},
     "output_type": "display_data"
    },
    {
     "data": {
      "text/plain": "\u001B[1m Trainable params: \u001B[0m\u001B[38;5;34m835\u001B[0m (3.26 KB)\n",
      "text/html": "<pre style=\"white-space:pre;overflow-x:auto;line-height:normal;font-family:Menlo,'DejaVu Sans Mono',consolas,'Courier New',monospace\"><span style=\"font-weight: bold\"> Trainable params: </span><span style=\"color: #00af00; text-decoration-color: #00af00\">835</span> (3.26 KB)\n</pre>\n"
     },
     "metadata": {},
     "output_type": "display_data"
    },
    {
     "data": {
      "text/plain": "\u001B[1m Non-trainable params: \u001B[0m\u001B[38;5;34m0\u001B[0m (0.00 B)\n",
      "text/html": "<pre style=\"white-space:pre;overflow-x:auto;line-height:normal;font-family:Menlo,'DejaVu Sans Mono',consolas,'Courier New',monospace\"><span style=\"font-weight: bold\"> Non-trainable params: </span><span style=\"color: #00af00; text-decoration-color: #00af00\">0</span> (0.00 B)\n</pre>\n"
     },
     "metadata": {},
     "output_type": "display_data"
    }
   ],
   "source": [
    "model.summary()"
   ],
   "metadata": {
    "collapsed": false,
    "ExecuteTime": {
     "end_time": "2024-07-06T04:44:43.211055Z",
     "start_time": "2024-07-06T04:44:42.967435Z"
    }
   },
   "id": "1914cdbbda6841bb",
   "execution_count": 100
  },
  {
   "cell_type": "code",
   "outputs": [
    {
     "name": "stdout",
     "output_type": "stream",
     "text": [
      "Epoch 1/50\n",
      "\u001B[1m1/1\u001B[0m \u001B[32m━━━━━━━━━━━━━━━━━━━━\u001B[0m\u001B[37m\u001B[0m \u001B[1m6s\u001B[0m 6s/step - accuracy: 0.1667 - loss: 1.2431 - val_accuracy: 0.0000e+00 - val_loss: 1.1745\n",
      "Epoch 2/50\n",
      "\u001B[1m1/1\u001B[0m \u001B[32m━━━━━━━━━━━━━━━━━━━━\u001B[0m\u001B[37m\u001B[0m \u001B[1m1s\u001B[0m 594ms/step - accuracy: 0.1667 - loss: 1.2185 - val_accuracy: 0.2000 - val_loss: 1.1562\n",
      "Epoch 3/50\n",
      "\u001B[1m1/1\u001B[0m \u001B[32m━━━━━━━━━━━━━━━━━━━━\u001B[0m\u001B[37m\u001B[0m \u001B[1m1s\u001B[0m 1s/step - accuracy: 0.1667 - loss: 1.1965 - val_accuracy: 0.2000 - val_loss: 1.1399\n",
      "Epoch 4/50\n",
      "\u001B[1m1/1\u001B[0m \u001B[32m━━━━━━━━━━━━━━━━━━━━\u001B[0m\u001B[37m\u001B[0m \u001B[1m0s\u001B[0m 479ms/step - accuracy: 0.4444 - loss: 1.1764 - val_accuracy: 0.2000 - val_loss: 1.1259\n",
      "Epoch 5/50\n",
      "\u001B[1m1/1\u001B[0m \u001B[32m━━━━━━━━━━━━━━━━━━━━\u001B[0m\u001B[37m\u001B[0m \u001B[1m1s\u001B[0m 609ms/step - accuracy: 0.4444 - loss: 1.1550 - val_accuracy: 0.2000 - val_loss: 1.1152\n",
      "Epoch 6/50\n",
      "\u001B[1m1/1\u001B[0m \u001B[32m━━━━━━━━━━━━━━━━━━━━\u001B[0m\u001B[37m\u001B[0m \u001B[1m1s\u001B[0m 618ms/step - accuracy: 0.4444 - loss: 1.1334 - val_accuracy: 0.2000 - val_loss: 1.1059\n",
      "Epoch 7/50\n",
      "\u001B[1m1/1\u001B[0m \u001B[32m━━━━━━━━━━━━━━━━━━━━\u001B[0m\u001B[37m\u001B[0m \u001B[1m1s\u001B[0m 588ms/step - accuracy: 0.4444 - loss: 1.1120 - val_accuracy: 0.4000 - val_loss: 1.0972\n",
      "Epoch 8/50\n",
      "\u001B[1m1/1\u001B[0m \u001B[32m━━━━━━━━━━━━━━━━━━━━\u001B[0m\u001B[37m\u001B[0m \u001B[1m0s\u001B[0m 434ms/step - accuracy: 0.5000 - loss: 1.0908 - val_accuracy: 0.4000 - val_loss: 1.0916\n",
      "Epoch 9/50\n",
      "\u001B[1m1/1\u001B[0m \u001B[32m━━━━━━━━━━━━━━━━━━━━\u001B[0m\u001B[37m\u001B[0m \u001B[1m0s\u001B[0m 412ms/step - accuracy: 0.5000 - loss: 1.0720 - val_accuracy: 0.4000 - val_loss: 1.0873\n",
      "Epoch 10/50\n",
      "\u001B[1m1/1\u001B[0m \u001B[32m━━━━━━━━━━━━━━━━━━━━\u001B[0m\u001B[37m\u001B[0m \u001B[1m0s\u001B[0m 491ms/step - accuracy: 0.5000 - loss: 1.0537 - val_accuracy: 0.4000 - val_loss: 1.0837\n",
      "Epoch 11/50\n",
      "\u001B[1m1/1\u001B[0m \u001B[32m━━━━━━━━━━━━━━━━━━━━\u001B[0m\u001B[37m\u001B[0m \u001B[1m0s\u001B[0m 422ms/step - accuracy: 0.6111 - loss: 1.0359 - val_accuracy: 0.4000 - val_loss: 1.0810\n",
      "Epoch 12/50\n",
      "\u001B[1m1/1\u001B[0m \u001B[32m━━━━━━━━━━━━━━━━━━━━\u001B[0m\u001B[37m\u001B[0m \u001B[1m0s\u001B[0m 418ms/step - accuracy: 0.5556 - loss: 1.0200 - val_accuracy: 0.4000 - val_loss: 1.0801\n",
      "Epoch 13/50\n",
      "\u001B[1m1/1\u001B[0m \u001B[32m━━━━━━━━━━━━━━━━━━━━\u001B[0m\u001B[37m\u001B[0m \u001B[1m1s\u001B[0m 526ms/step - accuracy: 0.5556 - loss: 1.0044 - val_accuracy: 0.4000 - val_loss: 1.0800\n",
      "Epoch 14/50\n",
      "\u001B[1m1/1\u001B[0m \u001B[32m━━━━━━━━━━━━━━━━━━━━\u001B[0m\u001B[37m\u001B[0m \u001B[1m1s\u001B[0m 536ms/step - accuracy: 0.5556 - loss: 0.9898 - val_accuracy: 0.4000 - val_loss: 1.0746\n",
      "Epoch 15/50\n",
      "\u001B[1m1/1\u001B[0m \u001B[32m━━━━━━━━━━━━━━━━━━━━\u001B[0m\u001B[37m\u001B[0m \u001B[1m0s\u001B[0m 488ms/step - accuracy: 0.5556 - loss: 0.9758 - val_accuracy: 0.4000 - val_loss: 1.0712\n",
      "Epoch 16/50\n",
      "\u001B[1m1/1\u001B[0m \u001B[32m━━━━━━━━━━━━━━━━━━━━\u001B[0m\u001B[37m\u001B[0m \u001B[1m0s\u001B[0m 434ms/step - accuracy: 0.7778 - loss: 0.9619 - val_accuracy: 0.4000 - val_loss: 1.0688\n",
      "Epoch 17/50\n",
      "\u001B[1m1/1\u001B[0m \u001B[32m━━━━━━━━━━━━━━━━━━━━\u001B[0m\u001B[37m\u001B[0m \u001B[1m1s\u001B[0m 838ms/step - accuracy: 0.7778 - loss: 0.9485 - val_accuracy: 0.4000 - val_loss: 1.0661\n",
      "Epoch 18/50\n",
      "\u001B[1m1/1\u001B[0m \u001B[32m━━━━━━━━━━━━━━━━━━━━\u001B[0m\u001B[37m\u001B[0m \u001B[1m1s\u001B[0m 1s/step - accuracy: 0.7778 - loss: 0.9359 - val_accuracy: 0.4000 - val_loss: 1.0652\n",
      "Epoch 19/50\n",
      "\u001B[1m1/1\u001B[0m \u001B[32m━━━━━━━━━━━━━━━━━━━━\u001B[0m\u001B[37m\u001B[0m \u001B[1m0s\u001B[0m 381ms/step - accuracy: 0.8333 - loss: 0.9236 - val_accuracy: 0.4000 - val_loss: 1.0668\n",
      "Epoch 20/50\n",
      "\u001B[1m1/1\u001B[0m \u001B[32m━━━━━━━━━━━━━━━━━━━━\u001B[0m\u001B[37m\u001B[0m \u001B[1m1s\u001B[0m 522ms/step - accuracy: 0.8333 - loss: 0.9111 - val_accuracy: 0.4000 - val_loss: 1.0690\n",
      "Epoch 21/50\n",
      "\u001B[1m1/1\u001B[0m \u001B[32m━━━━━━━━━━━━━━━━━━━━\u001B[0m\u001B[37m\u001B[0m \u001B[1m0s\u001B[0m 483ms/step - accuracy: 0.8333 - loss: 0.8993 - val_accuracy: 0.4000 - val_loss: 1.0716\n",
      "Epoch 22/50\n",
      "\u001B[1m1/1\u001B[0m \u001B[32m━━━━━━━━━━━━━━━━━━━━\u001B[0m\u001B[37m\u001B[0m \u001B[1m0s\u001B[0m 427ms/step - accuracy: 0.7778 - loss: 0.8872 - val_accuracy: 0.4000 - val_loss: 1.0746\n",
      "Epoch 23/50\n",
      "\u001B[1m1/1\u001B[0m \u001B[32m━━━━━━━━━━━━━━━━━━━━\u001B[0m\u001B[37m\u001B[0m \u001B[1m0s\u001B[0m 489ms/step - accuracy: 0.7778 - loss: 0.8752 - val_accuracy: 0.4000 - val_loss: 1.0779\n",
      "Epoch 24/50\n",
      "\u001B[1m1/1\u001B[0m \u001B[32m━━━━━━━━━━━━━━━━━━━━\u001B[0m\u001B[37m\u001B[0m \u001B[1m0s\u001B[0m 380ms/step - accuracy: 0.7778 - loss: 0.8640 - val_accuracy: 0.4000 - val_loss: 1.0811\n",
      "Epoch 25/50\n",
      "\u001B[1m1/1\u001B[0m \u001B[32m━━━━━━━━━━━━━━━━━━━━\u001B[0m\u001B[37m\u001B[0m \u001B[1m0s\u001B[0m 448ms/step - accuracy: 0.7778 - loss: 0.8530 - val_accuracy: 0.4000 - val_loss: 1.0848\n",
      "Epoch 26/50\n",
      "\u001B[1m1/1\u001B[0m \u001B[32m━━━━━━━━━━━━━━━━━━━━\u001B[0m\u001B[37m\u001B[0m \u001B[1m0s\u001B[0m 404ms/step - accuracy: 0.7778 - loss: 0.8422 - val_accuracy: 0.4000 - val_loss: 1.0887\n",
      "Epoch 27/50\n",
      "\u001B[1m1/1\u001B[0m \u001B[32m━━━━━━━━━━━━━━━━━━━━\u001B[0m\u001B[37m\u001B[0m \u001B[1m0s\u001B[0m 417ms/step - accuracy: 0.7778 - loss: 0.8314 - val_accuracy: 0.4000 - val_loss: 1.0929\n",
      "Epoch 28/50\n",
      "\u001B[1m1/1\u001B[0m \u001B[32m━━━━━━━━━━━━━━━━━━━━\u001B[0m\u001B[37m\u001B[0m \u001B[1m0s\u001B[0m 445ms/step - accuracy: 0.7778 - loss: 0.8207 - val_accuracy: 0.4000 - val_loss: 1.0976\n",
      "Epoch 29/50\n",
      "\u001B[1m1/1\u001B[0m \u001B[32m━━━━━━━━━━━━━━━━━━━━\u001B[0m\u001B[37m\u001B[0m \u001B[1m0s\u001B[0m 431ms/step - accuracy: 0.7778 - loss: 0.8104 - val_accuracy: 0.4000 - val_loss: 1.1029\n",
      "Epoch 30/50\n",
      "\u001B[1m1/1\u001B[0m \u001B[32m━━━━━━━━━━━━━━━━━━━━\u001B[0m\u001B[37m\u001B[0m \u001B[1m0s\u001B[0m 463ms/step - accuracy: 0.7778 - loss: 0.8003 - val_accuracy: 0.4000 - val_loss: 1.1085\n",
      "Epoch 31/50\n",
      "\u001B[1m1/1\u001B[0m \u001B[32m━━━━━━━━━━━━━━━━━━━━\u001B[0m\u001B[37m\u001B[0m \u001B[1m0s\u001B[0m 394ms/step - accuracy: 0.7778 - loss: 0.7907 - val_accuracy: 0.4000 - val_loss: 1.1145\n",
      "Epoch 32/50\n",
      "\u001B[1m1/1\u001B[0m \u001B[32m━━━━━━━━━━━━━━━━━━━━\u001B[0m\u001B[37m\u001B[0m \u001B[1m0s\u001B[0m 395ms/step - accuracy: 0.7778 - loss: 0.7814 - val_accuracy: 0.4000 - val_loss: 1.1208\n",
      "Epoch 33/50\n",
      "\u001B[1m1/1\u001B[0m \u001B[32m━━━━━━━━━━━━━━━━━━━━\u001B[0m\u001B[37m\u001B[0m \u001B[1m0s\u001B[0m 409ms/step - accuracy: 0.7778 - loss: 0.7725 - val_accuracy: 0.4000 - val_loss: 1.1275\n",
      "Epoch 34/50\n",
      "\u001B[1m1/1\u001B[0m \u001B[32m━━━━━━━━━━━━━━━━━━━━\u001B[0m\u001B[37m\u001B[0m \u001B[1m0s\u001B[0m 374ms/step - accuracy: 0.7778 - loss: 0.7635 - val_accuracy: 0.4000 - val_loss: 1.1345\n",
      "Epoch 35/50\n",
      "\u001B[1m1/1\u001B[0m \u001B[32m━━━━━━━━━━━━━━━━━━━━\u001B[0m\u001B[37m\u001B[0m \u001B[1m1s\u001B[0m 694ms/step - accuracy: 0.7778 - loss: 0.7545 - val_accuracy: 0.4000 - val_loss: 1.1418\n",
      "Epoch 36/50\n",
      "\u001B[1m1/1\u001B[0m \u001B[32m━━━━━━━━━━━━━━━━━━━━\u001B[0m\u001B[37m\u001B[0m \u001B[1m0s\u001B[0m 385ms/step - accuracy: 0.7778 - loss: 0.7455 - val_accuracy: 0.4000 - val_loss: 1.1494\n",
      "Epoch 37/50\n",
      "\u001B[1m1/1\u001B[0m \u001B[32m━━━━━━━━━━━━━━━━━━━━\u001B[0m\u001B[37m\u001B[0m \u001B[1m0s\u001B[0m 406ms/step - accuracy: 0.7778 - loss: 0.7367 - val_accuracy: 0.4000 - val_loss: 1.1574\n",
      "Epoch 38/50\n",
      "\u001B[1m1/1\u001B[0m \u001B[32m━━━━━━━━━━━━━━━━━━━━\u001B[0m\u001B[37m\u001B[0m \u001B[1m0s\u001B[0m 497ms/step - accuracy: 0.7778 - loss: 0.7282 - val_accuracy: 0.4000 - val_loss: 1.1655\n",
      "Epoch 39/50\n",
      "\u001B[1m1/1\u001B[0m \u001B[32m━━━━━━━━━━━━━━━━━━━━\u001B[0m\u001B[37m\u001B[0m \u001B[1m0s\u001B[0m 435ms/step - accuracy: 0.7778 - loss: 0.7199 - val_accuracy: 0.4000 - val_loss: 1.1740\n",
      "Epoch 40/50\n",
      "\u001B[1m1/1\u001B[0m \u001B[32m━━━━━━━━━━━━━━━━━━━━\u001B[0m\u001B[37m\u001B[0m \u001B[1m1s\u001B[0m 766ms/step - accuracy: 0.7778 - loss: 0.7118 - val_accuracy: 0.4000 - val_loss: 1.1829\n",
      "Epoch 41/50\n",
      "\u001B[1m1/1\u001B[0m \u001B[32m━━━━━━━━━━━━━━━━━━━━\u001B[0m\u001B[37m\u001B[0m \u001B[1m1s\u001B[0m 1s/step - accuracy: 0.7778 - loss: 0.7042 - val_accuracy: 0.4000 - val_loss: 1.1920\n",
      "Epoch 42/50\n",
      "\u001B[1m1/1\u001B[0m \u001B[32m━━━━━━━━━━━━━━━━━━━━\u001B[0m\u001B[37m\u001B[0m \u001B[1m1s\u001B[0m 540ms/step - accuracy: 0.7778 - loss: 0.6970 - val_accuracy: 0.4000 - val_loss: 1.2011\n",
      "Epoch 43/50\n",
      "\u001B[1m1/1\u001B[0m \u001B[32m━━━━━━━━━━━━━━━━━━━━\u001B[0m\u001B[37m\u001B[0m \u001B[1m1s\u001B[0m 561ms/step - accuracy: 0.7778 - loss: 0.6900 - val_accuracy: 0.4000 - val_loss: 1.2104\n",
      "Epoch 44/50\n",
      "\u001B[1m1/1\u001B[0m \u001B[32m━━━━━━━━━━━━━━━━━━━━\u001B[0m\u001B[37m\u001B[0m \u001B[1m1s\u001B[0m 632ms/step - accuracy: 0.7778 - loss: 0.6832 - val_accuracy: 0.4000 - val_loss: 1.2197\n",
      "Epoch 45/50\n",
      "\u001B[1m1/1\u001B[0m \u001B[32m━━━━━━━━━━━━━━━━━━━━\u001B[0m\u001B[37m\u001B[0m \u001B[1m1s\u001B[0m 725ms/step - accuracy: 0.7778 - loss: 0.6766 - val_accuracy: 0.4000 - val_loss: 1.2291\n",
      "Epoch 46/50\n",
      "\u001B[1m1/1\u001B[0m \u001B[32m━━━━━━━━━━━━━━━━━━━━\u001B[0m\u001B[37m\u001B[0m \u001B[1m1s\u001B[0m 603ms/step - accuracy: 0.7778 - loss: 0.6702 - val_accuracy: 0.4000 - val_loss: 1.2384\n",
      "Epoch 47/50\n",
      "\u001B[1m1/1\u001B[0m \u001B[32m━━━━━━━━━━━━━━━━━━━━\u001B[0m\u001B[37m\u001B[0m \u001B[1m1s\u001B[0m 503ms/step - accuracy: 0.7778 - loss: 0.6639 - val_accuracy: 0.4000 - val_loss: 1.2474\n",
      "Epoch 48/50\n",
      "\u001B[1m1/1\u001B[0m \u001B[32m━━━━━━━━━━━━━━━━━━━━\u001B[0m\u001B[37m\u001B[0m \u001B[1m1s\u001B[0m 587ms/step - accuracy: 0.7778 - loss: 0.6579 - val_accuracy: 0.4000 - val_loss: 1.2564\n",
      "Epoch 49/50\n",
      "\u001B[1m1/1\u001B[0m \u001B[32m━━━━━━━━━━━━━━━━━━━━\u001B[0m\u001B[37m\u001B[0m \u001B[1m1s\u001B[0m 1s/step - accuracy: 0.7778 - loss: 0.6521 - val_accuracy: 0.4000 - val_loss: 1.2656\n",
      "Epoch 50/50\n",
      "\u001B[1m1/1\u001B[0m \u001B[32m━━━━━━━━━━━━━━━━━━━━\u001B[0m\u001B[37m\u001B[0m \u001B[1m1s\u001B[0m 538ms/step - accuracy: 0.7778 - loss: 0.6466 - val_accuracy: 0.4000 - val_loss: 1.2747\n"
     ]
    }
   ],
   "source": [
    "history = model.fit(X_train, y_train, epochs=50, validation_data=(X_test, y_test), verbose=1)"
   ],
   "metadata": {
    "collapsed": false,
    "ExecuteTime": {
     "end_time": "2024-07-06T04:45:19.111520Z",
     "start_time": "2024-07-06T04:44:43.983430Z"
    }
   },
   "id": "a09b3978ca30e37b",
   "execution_count": 101
  },
  {
   "cell_type": "markdown",
   "source": [
    "Accuracy of 77.78% currently, simply need more data in order to make it better but for now this isn't bad, it also may be overfitting so keep that in mind"
   ],
   "metadata": {
    "collapsed": false
   },
   "id": "fb823ec798026ecb"
  },
  {
   "cell_type": "markdown",
   "source": [
    "Save Model File"
   ],
   "metadata": {
    "collapsed": false
   },
   "id": "bca54cf9699e932f"
  },
  {
   "cell_type": "code",
   "outputs": [
    {
     "name": "stderr",
     "output_type": "stream",
     "text": [
      "WARNING:absl:You are saving your model as an HDF5 file via `model.save()` or `keras.saving.save_model(model)`. This file format is considered legacy. We recommend using instead the native Keras format, e.g. `model.save('my_model.keras')` or `keras.saving.save_model(model, 'my_model.keras')`. \n"
     ]
    }
   ],
   "source": [
    "filePath = '/users/alexanderokenczyc/documents/github/trollModelRA'\n",
    "model.save('justin.keras')\n",
    "model.save('justin.h5')\n",
    "#model.save('trollModel.h5')\n",
    "# tf.keras.Model.save('trollModel.h5', filepath=filepath)"
   ],
   "metadata": {
    "collapsed": false,
    "ExecuteTime": {
     "end_time": "2024-07-06T04:46:28.619645Z",
     "start_time": "2024-07-06T04:46:28.437979Z"
    }
   },
   "id": "f663f8d19c377db",
   "execution_count": 103
  },
  {
   "cell_type": "code",
   "outputs": [],
   "source": [],
   "metadata": {
    "collapsed": false
   },
   "id": "6552a1f3370414c3"
  }
 ],
 "metadata": {
  "kernelspec": {
   "display_name": "Python 3",
   "language": "python",
   "name": "python3"
  },
  "language_info": {
   "codemirror_mode": {
    "name": "ipython",
    "version": 2
   },
   "file_extension": ".py",
   "mimetype": "text/x-python",
   "name": "python",
   "nbconvert_exporter": "python",
   "pygments_lexer": "ipython2",
   "version": "2.7.6"
  }
 },
 "nbformat": 4,
 "nbformat_minor": 5
}
